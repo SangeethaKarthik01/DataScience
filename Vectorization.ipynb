{
 "cells": [
  {
   "cell_type": "code",
   "execution_count": 1,
   "metadata": {},
   "outputs": [],
   "source": [
    "# import libraties\n",
    "import pandas as pd\n",
    "import numpy as np\n",
    "import matplotlib.pyplot as plt\n",
    "import seaborn as sns\n",
    "from datetime import datetime as dt"
   ]
  },
  {
   "cell_type": "code",
   "execution_count": 2,
   "metadata": {},
   "outputs": [],
   "source": [
    "# Supress Warnings\n",
    "import warnings\n",
    "warnings.filterwarnings('ignore')"
   ]
  },
  {
   "cell_type": "code",
   "execution_count": 3,
   "metadata": {},
   "outputs": [
    {
     "name": "stdout",
     "output_type": "stream",
     "text": [
      "3.46 ms ± 324 µs per loop (mean ± std. dev. of 7 runs, 100 loops each)\n"
     ]
    }
   ],
   "source": [
    "%%timeit\n",
    "total = 0\n",
    "for i in np.arange(10000):\n",
    "     total = i + total\n"
   ]
  },
  {
   "cell_type": "code",
   "execution_count": 4,
   "metadata": {},
   "outputs": [
    {
     "name": "stdout",
     "output_type": "stream",
     "text": [
      "20.6 µs ± 2.31 µs per loop (mean ± std. dev. of 7 runs, 10000 loops each)\n"
     ]
    }
   ],
   "source": [
    "%%timeit\n",
    "np.sum(np.arange(10000))"
   ]
  },
  {
   "cell_type": "code",
   "execution_count": null,
   "metadata": {},
   "outputs": [],
   "source": []
  },
  {
   "cell_type": "code",
   "execution_count": 6,
   "metadata": {},
   "outputs": [],
   "source": [
    "df = pd.read_csv('Consumer_electronics.csv', low_memory =False,na_values = [' ','\\\\N'], encoding = 'utf8')"
   ]
  },
  {
   "cell_type": "code",
   "execution_count": 7,
   "metadata": {},
   "outputs": [
    {
     "data": {
      "text/plain": [
       "(148315, 21)"
      ]
     },
     "execution_count": 7,
     "metadata": {},
     "output_type": "execute_result"
    }
   ],
   "source": [
    "df.shape"
   ]
  },
  {
   "cell_type": "code",
   "execution_count": 8,
   "metadata": {},
   "outputs": [
    {
     "name": "stdout",
     "output_type": "stream",
     "text": [
      "1min 32s ± 9.72 s per loop (mean ± std. dev. of 7 runs, 1 loop each)\n"
     ]
    }
   ],
   "source": [
    "%%timeit\n",
    "Cost_price = np.zeros(len(df,))\n",
    "for i in range(len(df)) : \n",
    "   Cost_price[i] = (df.iloc[i]['units'] * df.iloc[i]['product_mrp'])\n",
    "df['Cost_price']=Cost_price"
   ]
  },
  {
   "cell_type": "code",
   "execution_count": 9,
   "metadata": {},
   "outputs": [
    {
     "name": "stdout",
     "output_type": "stream",
     "text": [
      "1min 27s ± 5.02 s per loop (mean ± std. dev. of 7 runs, 1 loop each)\n"
     ]
    }
   ],
   "source": [
    "%%timeit\n",
    "Cost_price = np.zeros(len(df,))\n",
    "for i in range(len(df)) : \n",
    "   Cost_price[i] = (df.loc[i]['units'] * df.iloc[i]['product_mrp'])\n",
    "df['Cost_price']=Cost_price"
   ]
  },
  {
   "cell_type": "code",
   "execution_count": 10,
   "metadata": {},
   "outputs": [
    {
     "name": "stdout",
     "output_type": "stream",
     "text": [
      "3min 57s ± 25 s per loop (mean ± std. dev. of 7 runs, 1 loop each)\n"
     ]
    }
   ],
   "source": [
    "%%timeit\n",
    "for row_index,row in df.iterrows():\n",
    "    Cost_price = df['units'] * df['product_mrp']\n",
    "df['Cost_price']=Cost_price"
   ]
  },
  {
   "cell_type": "code",
   "execution_count": 11,
   "metadata": {},
   "outputs": [
    {
     "name": "stdout",
     "output_type": "stream",
     "text": [
      "The slowest run took 4.12 times longer than the fastest. This could mean that an intermediate result is being cached.\n",
      "9.35 s ± 4.15 s per loop (mean ± std. dev. of 7 runs, 1 loop each)\n"
     ]
    }
   ],
   "source": [
    "%%timeit\n",
    "\n",
    "df['Cost_price'] = df.apply(lambda x: (x.units* x.product_mrp), axis=1)"
   ]
  },
  {
   "cell_type": "code",
   "execution_count": 12,
   "metadata": {},
   "outputs": [
    {
     "name": "stdout",
     "output_type": "stream",
     "text": [
      "5.69 ms ± 2.94 ms per loop (mean ± std. dev. of 7 runs, 100 loops each)\n"
     ]
    }
   ],
   "source": [
    "%%timeit\n",
    "df['Cost_price']= map(lambda x,y: x + y,df[[\"units\",\"product_mrp\"]])\n"
   ]
  },
  {
   "cell_type": "code",
   "execution_count": 13,
   "metadata": {},
   "outputs": [
    {
     "name": "stdout",
     "output_type": "stream",
     "text": [
      "5.67 ms ± 1.98 ms per loop (mean ± std. dev. of 7 runs, 100 loops each)\n"
     ]
    }
   ],
   "source": [
    "%%timeit\n",
    "df['Cost_price'] = np.vectorize(df['units'] * df['product_mrp'])"
   ]
  },
  {
   "cell_type": "code",
   "execution_count": 14,
   "metadata": {},
   "outputs": [
    {
     "name": "stdout",
     "output_type": "stream",
     "text": [
      "2.11 ms ± 57.8 µs per loop (mean ± std. dev. of 7 runs, 100 loops each)\n"
     ]
    }
   ],
   "source": [
    "%%timeit\n",
    "# Vectorized implementation applied on Pandas series\n",
    "df['Cost_price'] = (df['units'] * df['product_mrp'])"
   ]
  },
  {
   "cell_type": "code",
   "execution_count": 15,
   "metadata": {},
   "outputs": [
    {
     "name": "stdout",
     "output_type": "stream",
     "text": [
      "2.18 ms ± 656 µs per loop (mean ± std. dev. of 7 runs, 1000 loops each)\n"
     ]
    }
   ],
   "source": [
    "%%timeit\n",
    "# Vectorized implementation applied on NumPy arrays\n",
    "df['Cost_price'] =  df['units'].values * df['product_mrp'].values"
   ]
  },
  {
   "cell_type": "code",
   "execution_count": null,
   "metadata": {},
   "outputs": [],
   "source": []
  },
  {
   "cell_type": "code",
   "execution_count": 16,
   "metadata": {},
   "outputs": [
    {
     "name": "stdout",
     "output_type": "stream",
     "text": [
      "50.1 s ± 4.81 s per loop (mean ± std. dev. of 7 runs, 1 loop each)\n"
     ]
    }
   ],
   "source": [
    "%%timeit\n",
    "scores = np.zeros(len(df,))\n",
    "for i in range(len(df)):\n",
    "    row = df.loc[i]\n",
    "    if row['product_mrp'] < 10000:\n",
    "        scores[i] = 1\n",
    "    elif row['product_mrp'] >= 10000 and row['product_mrp'] <= 20000:\n",
    "        scores[i] = 2\n",
    "    elif row['product_mrp'] >= 20000 and row['product_mrp'] <=  30000:\n",
    "        scores[i] = 3\n",
    "    elif row['product_mrp'] >= 30000 and row['product_mrp'] <= 40000:\n",
    "        scores[i] = 4    \n",
    "    else:\n",
    "        scores[i] = 5\n",
    "df['Price_Range'] = scores"
   ]
  },
  {
   "cell_type": "code",
   "execution_count": 17,
   "metadata": {},
   "outputs": [
    {
     "name": "stdout",
     "output_type": "stream",
     "text": [
      "167 ms ± 87.6 ms per loop (mean ± std. dev. of 7 runs, 10 loops each)\n"
     ]
    }
   ],
   "source": [
    "%%timeit\n",
    "scores = np.zeros(len(df,))\n",
    "mrp = df['product_mrp'].values\n",
    "for i in range(len(df)):\n",
    "   \n",
    "    if mrp[i] < 10000:\n",
    "        scores[i] = 1\n",
    "    elif  mrp[i] >=10000 and  mrp[i] <= 20000:\n",
    "        scores[i] = 2\n",
    "    elif  mrp[i] >=20000 and  mrp[i] <= 30000:\n",
    "        scores[i] = 3\n",
    "    elif  mrp[i] >=30000 and  mrp[i] <= 40000:\n",
    "        scores[i] = 4    \n",
    "    else:\n",
    "        scores[i] = 5\n",
    "df['Price_Range'] = scores\n",
    "\n"
   ]
  },
  {
   "cell_type": "code",
   "execution_count": 18,
   "metadata": {},
   "outputs": [
    {
     "name": "stdout",
     "output_type": "stream",
     "text": [
      "64.4 ms ± 15.4 ms per loop (mean ± std. dev. of 7 runs, 10 loops each)\n"
     ]
    }
   ],
   "source": [
    "%%timeit \n",
    "df['Price_Range'] = df['product_mrp'].apply(lambda x:'1' if x<10000  else ('2' if (x >= 10000 & x < 20000) else ('3' if (x >= 20000 & x < 30000) else ('4' if (x >= 30000 & x < 40000) else '4' ) ) ) )"
   ]
  },
  {
   "cell_type": "code",
   "execution_count": 19,
   "metadata": {},
   "outputs": [
    {
     "name": "stdout",
     "output_type": "stream",
     "text": [
      "42.6 ms ± 4.15 ms per loop (mean ± std. dev. of 7 runs, 10 loops each)\n"
     ]
    }
   ],
   "source": [
    "%%timeit\n",
    "conditions = [\n",
    "    (df['product_mrp'] < 10000),\n",
    "    (df['product_mrp'] > 10000) & (df['product_mrp'] < 20000),\n",
    "    (df['product_mrp'] > 20000) & (df['product_mrp'] < 30000),\n",
    "    (df['product_mrp'] > 30000) & (df['product_mrp'] < 40000),\n",
    "    (df['product_mrp'] > 4000)\n",
    "]\n",
    "\n",
    "choices = ['1','2','3', '4','5']\n",
    "df['Price_Range'] = np.select(conditions, choices, default=np.nan)"
   ]
  },
  {
   "cell_type": "code",
   "execution_count": 20,
   "metadata": {},
   "outputs": [
    {
     "name": "stdout",
     "output_type": "stream",
     "text": [
      "33.6 ms ± 4.75 ms per loop (mean ± std. dev. of 7 runs, 10 loops each)\n"
     ]
    }
   ],
   "source": [
    "%%timeit \n",
    "df.loc[(df['product_mrp'] < 10000) , 'Price_Range'] = 1\n",
    "df.loc[(df['product_mrp'] > 10000) & (df['product_mrp'] < 20000), 'Price_Range'] = 2\n",
    "df.loc[(df['product_mrp'] > 20000) & (df['product_mrp'] < 30000), 'Price_Range'] = 3\n",
    "df.loc[(df['product_mrp'] > 30000) & (df['product_mrp'] < 40000), 'Price_Range'] = 4\n",
    "df.loc[(df['product_mrp'] > 40000) , 'Price_Range'] = 4"
   ]
  },
  {
   "cell_type": "code",
   "execution_count": 21,
   "metadata": {},
   "outputs": [
    {
     "name": "stdout",
     "output_type": "stream",
     "text": [
      "6.13 ms ± 66.3 µs per loop (mean ± std. dev. of 7 runs, 100 loops each)\n"
     ]
    }
   ],
   "source": [
    "%%timeit \n",
    "df['Price_Range'] = np.where(df['product_mrp'] < 10000 , 1,\n",
    "                    np.where((df['product_mrp'] > 10000) & (df['product_mrp'] < 20000), 2,\n",
    "                    np.where((df['product_mrp'] > 20000) & (df['product_mrp'] < 30000), 3,\n",
    "                    np.where((df['product_mrp'] > 30000) & (df['product_mrp'] < 40000), 4,5))))\n",
    "          "
   ]
  },
  {
   "cell_type": "code",
   "execution_count": null,
   "metadata": {},
   "outputs": [],
   "source": []
  },
  {
   "cell_type": "code",
   "execution_count": 22,
   "metadata": {},
   "outputs": [
    {
     "name": "stdout",
     "output_type": "stream",
     "text": [
      "2.36 ms ± 1.25 ms per loop (mean ± std. dev. of 7 runs, 1000 loops each)\n"
     ]
    }
   ],
   "source": [
    "%%timeit \n",
    "name_series = pd.Series(np.random.choice(['adam', 'chang', 'eliza', 'odom'], replace=True, size=1000))\n",
    "\n",
    "def parse_name(name):\n",
    "    if name.lower().startswith('a'):\n",
    "        return 'A'\n",
    "    elif name.lower().startswith('e'):\n",
    "        return 'E'\n",
    "    elif name.lower().startswith('i'):\n",
    "        return 'I'\n",
    "    elif name.lower().startswith('o'):\n",
    "        return 'O'\n",
    "    elif name.lower().startswith('u'):\n",
    "        return 'U'\n",
    "    return name\n",
    "\n",
    "parse_name_vec = np.vectorize(parse_name)\n",
    "parse_name_vec(name_series)"
   ]
  },
  {
   "cell_type": "code",
   "execution_count": 23,
   "metadata": {},
   "outputs": [
    {
     "name": "stdout",
     "output_type": "stream",
     "text": [
      "2.5 ms ± 1.32 ms per loop (mean ± std. dev. of 7 runs, 1000 loops each)\n"
     ]
    }
   ],
   "source": [
    "%%timeit \n",
    "name_series = pd.Series(np.random.choice(['adam', 'chang', 'eliza', 'odom'], replace=True, size=1000))\n",
    "\n",
    "def parse_name(name):\n",
    "    if name.lower().startswith('a'):\n",
    "        return 'A'\n",
    "    elif name.lower().startswith('e'):\n",
    "        return 'E'\n",
    "    elif name.lower().startswith('i'):\n",
    "        return 'I'\n",
    "    elif name.lower().startswith('o'):\n",
    "        return 'O'\n",
    "    elif name.lower().startswith('u'):\n",
    "        return 'U'\n",
    "    return name\n",
    "\n",
    "name_series.apply(parse_name)"
   ]
  },
  {
   "cell_type": "code",
   "execution_count": 24,
   "metadata": {},
   "outputs": [
    {
     "name": "stdout",
     "output_type": "stream",
     "text": [
      "15.7 ms ± 7.61 ms per loop (mean ± std. dev. of 7 runs, 100 loops each)\n"
     ]
    }
   ],
   "source": [
    "\n",
    "%%timeit \n",
    "\n",
    "name_series = pd.Series(np.random.choice(['adam', 'chang', 'eliza', 'odom'], replace=True, size=1000))\n",
    "cases = [\n",
    "    name_series.str.lower().str.startswith('a'), name_series.str.lower().str.startswith('e'),\n",
    "    name_series.str.lower().str.startswith('i'), name_series.str.lower().str.startswith('o'),\n",
    "    name_series.str.lower().str.startswith('u')\n",
    "]\n",
    "replacements = 'A E I O U'.split()\n",
    "\n",
    "np.select(cases, replacements, default=name_series)"
   ]
  },
  {
   "cell_type": "code",
   "execution_count": null,
   "metadata": {},
   "outputs": [],
   "source": []
  },
  {
   "cell_type": "code",
   "execution_count": 25,
   "metadata": {},
   "outputs": [
    {
     "name": "stdout",
     "output_type": "stream",
     "text": [
      "869 ms ± 211 ms per loop (mean ± std. dev. of 7 runs, 1 loop each)\n"
     ]
    }
   ],
   "source": [
    "%%timeit \n",
    "\n",
    "df['Purchase_date'] = pd.to_datetime(df['Purchase_date']).dt.date\n",
    "df['order_date'] = pd.to_datetime(df['order_date']).dt.date\n",
    "df['Number_of_days'] = (df['Purchase_date'] - df['order_date']).dt.days"
   ]
  },
  {
   "cell_type": "code",
   "execution_count": 26,
   "metadata": {},
   "outputs": [
    {
     "name": "stdout",
     "output_type": "stream",
     "text": [
      "8.97 s ± 2.03 s per loop (mean ± std. dev. of 7 runs, 1 loop each)\n"
     ]
    }
   ],
   "source": [
    "%%timeit \n",
    "\n",
    "df['order_date'] = pd.to_datetime(df['order_date'])\n",
    "df['Purchase_date'] = pd.to_datetime(df['Purchase_date'])\n",
    "def days_calc(row):\n",
    "    return (row['Purchase_date']-row['order_date']).days\n",
    "     \n",
    "df['Number_of_days'] = df.apply(days_calc,axis=1)"
   ]
  }
 ],
 "metadata": {
  "kernelspec": {
   "display_name": "Python 3",
   "language": "python",
   "name": "python3"
  },
  "language_info": {
   "codemirror_mode": {
    "name": "ipython",
    "version": 3
   },
   "file_extension": ".py",
   "mimetype": "text/x-python",
   "name": "python",
   "nbconvert_exporter": "python",
   "pygments_lexer": "ipython3",
   "version": "3.6.5"
  }
 },
 "nbformat": 4,
 "nbformat_minor": 2
}
