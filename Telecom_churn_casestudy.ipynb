{
  "nbformat": 4,
  "nbformat_minor": 0,
  "metadata": {
    "accelerator": "GPU",
    "colab": {
      "name": "telecom_churn_casestudy.ipynb",
      "version": "0.3.2",
      "provenance": [],
      "collapsed_sections": [],
      "toc_visible": true,
      "machine_shape": "hm"
    },
    "kernelspec": {
      "display_name": "Python 3",
      "language": "python",
      "name": "python3"
    },
    "language_info": {
      "codemirror_mode": {
        "name": "ipython",
        "version": 3
      },
      "file_extension": ".py",
      "mimetype": "text/x-python",
      "name": "python",
      "nbconvert_exporter": "python",
      "pygments_lexer": "ipython3",
      "version": "3.7.1"
    }
  },
  "cells": [
    {
      "cell_type": "code",
      "metadata": {
        "colab_type": "code",
        "id": "-pmkALD0fu7M",
        "colab": {}
      },
      "source": [
        "### Telecom case study"
      ],
      "execution_count": 0,
      "outputs": []
    },
    {
      "cell_type": "code",
      "metadata": {
        "colab_type": "code",
        "id": "ryqv4WFBgBxO",
        "colab": {}
      },
      "source": [
        "##### Importing Libraries"
      ],
      "execution_count": 0,
      "outputs": []
    },
    {
      "cell_type": "code",
      "metadata": {
        "colab_type": "code",
        "id": "08376d5uSZuj",
        "colab": {}
      },
      "source": [
        "import pandas as pd\n",
        "import numpy as np\n",
        "import matplotlib.pyplot as plt\n",
        "import seaborn as sns\n",
        "from fancyimpute import KNN\n",
        "from fancyimpute import IterativeImputer as MICE\n",
        "from sklearn.decomposition import PCA\n",
        "from sklearn.decomposition import IncrementalPCA\n",
        "from sklearn.preprocessing import StandardScaler\n",
        "from imblearn.over_sampling import SMOTE\n",
        "\n",
        "from sklearn.metrics import confusion_matrix,accuracy_score,classification_report,roc_auc_score\n",
        "from sklearn.model_selection import train_test_split\n",
        "\n",
        "from sklearn.ensemble import RandomForestClassifier\n",
        "import datetime\n",
        "from sklearn.pipeline import Pipeline\n",
        "from sklearn.model_selection import GridSearchCV\n",
        "from sklearn.svm import SVC\n",
        "from sklearn.tree import DecisionTreeClassifier\n",
        "from sklearn.ensemble import RandomForestClassifier\n",
        "from sklearn.linear_model import LogisticRegression\n",
        "import pickle\n",
        "from sklearn.externals.six import StringIO  \n",
        "from sklearn.tree import export_graphviz\n",
        "import pydotplus, graphviz\n",
        "from IPython.display import Image \n",
        "from sklearn.model_selection import KFold\n",
        "from sklearn import metrics"
      ],
      "execution_count": 0,
      "outputs": []
    },
    {
      "cell_type": "code",
      "metadata": {
        "id": "exPj9BoOE-gg",
        "colab_type": "code",
        "colab": {}
      },
      "source": [
        "# Supress Warnings\n",
        "\n",
        "import warnings\n",
        "warnings.filterwarnings('ignore')"
      ],
      "execution_count": 0,
      "outputs": []
    },
    {
      "cell_type": "code",
      "metadata": {
        "colab_type": "code",
        "id": "YcmK4KMugb8K",
        "colab": {}
      },
      "source": [
        "##### Reading CSV file"
      ],
      "execution_count": 0,
      "outputs": []
    },
    {
      "cell_type": "code",
      "metadata": {
        "colab_type": "code",
        "id": "gWuJhk0NSt9_",
        "colab": {}
      },
      "source": [
        "df = pd.read_csv('telecom_churn_data.csv')"
      ],
      "execution_count": 0,
      "outputs": []
    },
    {
      "cell_type": "code",
      "metadata": {
        "colab_type": "code",
        "id": "Jd8cx6Qggilg",
        "colab": {}
      },
      "source": [
        "##### Analysing the given data"
      ],
      "execution_count": 0,
      "outputs": []
    },
    {
      "cell_type": "code",
      "metadata": {
        "colab_type": "code",
        "id": "fw52dtwbTA9Z",
        "outputId": "a82e6025-b0b9-43c3-ea01-b4a6fff73fcb",
        "colab": {
          "base_uri": "https://localhost:8080/",
          "height": 34
        }
      },
      "source": [
        "df.shape"
      ],
      "execution_count": 12,
      "outputs": [
        {
          "output_type": "execute_result",
          "data": {
            "text/plain": [
              "(99999, 226)"
            ]
          },
          "metadata": {
            "tags": []
          },
          "execution_count": 12
        }
      ]
    },
    {
      "cell_type": "code",
      "metadata": {
        "colab_type": "code",
        "id": "AERPuLnmTDWq",
        "outputId": "e55f5721-8c8d-4754-f864-b2c1bd493259",
        "colab": {
          "base_uri": "https://localhost:8080/",
          "height": 1000
        }
      },
      "source": [
        "df.info"
      ],
      "execution_count": 13,
      "outputs": [
        {
          "output_type": "execute_result",
          "data": {
            "text/plain": [
              "<bound method DataFrame.info of        mobile_number  circle_id  ...  jun_vbc_3g  sep_vbc_3g\n",
              "0         7000842753        109  ...      101.20        3.58\n",
              "1         7001865778        109  ...        0.00        0.00\n",
              "2         7001625959        109  ...        4.17        0.00\n",
              "3         7001204172        109  ...        0.00        0.00\n",
              "4         7000142493        109  ...        0.00        0.00\n",
              "5         7000286308        109  ...        0.00        0.00\n",
              "6         7001051193        109  ...        0.00        0.00\n",
              "7         7000701601        109  ...       18.74        0.00\n",
              "8         7001524846        109  ...      122.16        0.00\n",
              "9         7001864400        109  ...        0.00        0.00\n",
              "10        7000471350        109  ...        0.00        0.00\n",
              "11        7002006969        109  ...        0.00        0.00\n",
              "12        7001419799        109  ...        0.00        0.00\n",
              "13        7002191713        109  ...        0.00        0.00\n",
              "14        7001654241        109  ...        0.00        0.00\n",
              "15        7002070365        109  ...        0.00        0.00\n",
              "16        7000875565        109  ...       21.89        0.00\n",
              "17        7000187447        109  ...        0.00        0.00\n",
              "18        7001678155        109  ...        0.00        0.00\n",
              "19        7001754084        109  ...        0.00        0.00\n",
              "20        7001028254        109  ...        0.00        0.00\n",
              "21        7002124215        109  ...        0.00        0.00\n",
              "22        7001121249        109  ...        0.00        0.00\n",
              "23        7000887461        109  ...        0.00        0.00\n",
              "24        7001125315        109  ...        0.00        0.00\n",
              "25        7000852702        109  ...        0.00        0.00\n",
              "26        7000335166        109  ...        0.00        0.00\n",
              "27        7000577351        109  ...        0.00        0.00\n",
              "28        7001604038        109  ...        0.00        0.00\n",
              "29        7000039512        109  ...        0.00        0.00\n",
              "...              ...        ...  ...         ...         ...\n",
              "99969     7002291416        109  ...      302.37        8.60\n",
              "99970     7001386760        109  ...        0.00        0.00\n",
              "99971     7002204737        109  ...        0.00        0.00\n",
              "99972     7001594727        109  ...        0.00        0.00\n",
              "99973     7001606779        109  ...        0.00        0.00\n",
              "99974     7001453306        109  ...        0.00        0.00\n",
              "99975     7002215987        109  ...        0.00        0.00\n",
              "99976     7000452124        109  ...        0.00        0.00\n",
              "99977     7002244886        109  ...        0.00        0.00\n",
              "99978     7000668515        109  ...        0.00        0.00\n",
              "99979     7002083924        109  ...        0.00        0.00\n",
              "99980     7001881483        109  ...        0.00        0.00\n",
              "99981     7000630859        109  ...      668.05        0.33\n",
              "99982     7001013055        109  ...       67.19       45.89\n",
              "99983     7000191543        109  ...        0.00        0.00\n",
              "99984     7000661676        109  ...        0.00        0.00\n",
              "99985     7002373887        109  ...        0.00        0.00\n",
              "99986     7001729035        109  ...      604.08        0.00\n",
              "99987     7000003306        109  ...        0.00        0.00\n",
              "99988     7002111859        109  ...        0.00        0.00\n",
              "99989     7000964736        109  ...        0.00        0.00\n",
              "99990     7002277044        109  ...        0.00        0.00\n",
              "99991     7000342369        109  ...        0.00        0.00\n",
              "99992     7000641584        109  ...        0.00        0.00\n",
              "99993     7002074629        109  ...        0.00        0.00\n",
              "99994     7001548952        109  ...        0.00        0.00\n",
              "99995     7000607688        109  ...        0.00        0.00\n",
              "99996     7000087541        109  ...        0.00        0.00\n",
              "99997     7000498689        109  ...     1173.18        0.00\n",
              "99998     7001905007        109  ...        0.00        0.00\n",
              "\n",
              "[99999 rows x 226 columns]>"
            ]
          },
          "metadata": {
            "tags": []
          },
          "execution_count": 13
        }
      ]
    },
    {
      "cell_type": "code",
      "metadata": {
        "colab_type": "code",
        "id": "kPW7g9ylTFfB",
        "outputId": "44cd7fb4-e8c4-4d65-d598-e346dc1ab40e",
        "colab": {
          "base_uri": "https://localhost:8080/",
          "height": 1000
        }
      },
      "source": [
        "\n",
        "df.columns.tolist()"
      ],
      "execution_count": 14,
      "outputs": [
        {
          "output_type": "execute_result",
          "data": {
            "text/plain": [
              "['mobile_number',\n",
              " 'circle_id',\n",
              " 'loc_og_t2o_mou',\n",
              " 'std_og_t2o_mou',\n",
              " 'loc_ic_t2o_mou',\n",
              " 'last_date_of_month_6',\n",
              " 'last_date_of_month_7',\n",
              " 'last_date_of_month_8',\n",
              " 'last_date_of_month_9',\n",
              " 'arpu_6',\n",
              " 'arpu_7',\n",
              " 'arpu_8',\n",
              " 'arpu_9',\n",
              " 'onnet_mou_6',\n",
              " 'onnet_mou_7',\n",
              " 'onnet_mou_8',\n",
              " 'onnet_mou_9',\n",
              " 'offnet_mou_6',\n",
              " 'offnet_mou_7',\n",
              " 'offnet_mou_8',\n",
              " 'offnet_mou_9',\n",
              " 'roam_ic_mou_6',\n",
              " 'roam_ic_mou_7',\n",
              " 'roam_ic_mou_8',\n",
              " 'roam_ic_mou_9',\n",
              " 'roam_og_mou_6',\n",
              " 'roam_og_mou_7',\n",
              " 'roam_og_mou_8',\n",
              " 'roam_og_mou_9',\n",
              " 'loc_og_t2t_mou_6',\n",
              " 'loc_og_t2t_mou_7',\n",
              " 'loc_og_t2t_mou_8',\n",
              " 'loc_og_t2t_mou_9',\n",
              " 'loc_og_t2m_mou_6',\n",
              " 'loc_og_t2m_mou_7',\n",
              " 'loc_og_t2m_mou_8',\n",
              " 'loc_og_t2m_mou_9',\n",
              " 'loc_og_t2f_mou_6',\n",
              " 'loc_og_t2f_mou_7',\n",
              " 'loc_og_t2f_mou_8',\n",
              " 'loc_og_t2f_mou_9',\n",
              " 'loc_og_t2c_mou_6',\n",
              " 'loc_og_t2c_mou_7',\n",
              " 'loc_og_t2c_mou_8',\n",
              " 'loc_og_t2c_mou_9',\n",
              " 'loc_og_mou_6',\n",
              " 'loc_og_mou_7',\n",
              " 'loc_og_mou_8',\n",
              " 'loc_og_mou_9',\n",
              " 'std_og_t2t_mou_6',\n",
              " 'std_og_t2t_mou_7',\n",
              " 'std_og_t2t_mou_8',\n",
              " 'std_og_t2t_mou_9',\n",
              " 'std_og_t2m_mou_6',\n",
              " 'std_og_t2m_mou_7',\n",
              " 'std_og_t2m_mou_8',\n",
              " 'std_og_t2m_mou_9',\n",
              " 'std_og_t2f_mou_6',\n",
              " 'std_og_t2f_mou_7',\n",
              " 'std_og_t2f_mou_8',\n",
              " 'std_og_t2f_mou_9',\n",
              " 'std_og_t2c_mou_6',\n",
              " 'std_og_t2c_mou_7',\n",
              " 'std_og_t2c_mou_8',\n",
              " 'std_og_t2c_mou_9',\n",
              " 'std_og_mou_6',\n",
              " 'std_og_mou_7',\n",
              " 'std_og_mou_8',\n",
              " 'std_og_mou_9',\n",
              " 'isd_og_mou_6',\n",
              " 'isd_og_mou_7',\n",
              " 'isd_og_mou_8',\n",
              " 'isd_og_mou_9',\n",
              " 'spl_og_mou_6',\n",
              " 'spl_og_mou_7',\n",
              " 'spl_og_mou_8',\n",
              " 'spl_og_mou_9',\n",
              " 'og_others_6',\n",
              " 'og_others_7',\n",
              " 'og_others_8',\n",
              " 'og_others_9',\n",
              " 'total_og_mou_6',\n",
              " 'total_og_mou_7',\n",
              " 'total_og_mou_8',\n",
              " 'total_og_mou_9',\n",
              " 'loc_ic_t2t_mou_6',\n",
              " 'loc_ic_t2t_mou_7',\n",
              " 'loc_ic_t2t_mou_8',\n",
              " 'loc_ic_t2t_mou_9',\n",
              " 'loc_ic_t2m_mou_6',\n",
              " 'loc_ic_t2m_mou_7',\n",
              " 'loc_ic_t2m_mou_8',\n",
              " 'loc_ic_t2m_mou_9',\n",
              " 'loc_ic_t2f_mou_6',\n",
              " 'loc_ic_t2f_mou_7',\n",
              " 'loc_ic_t2f_mou_8',\n",
              " 'loc_ic_t2f_mou_9',\n",
              " 'loc_ic_mou_6',\n",
              " 'loc_ic_mou_7',\n",
              " 'loc_ic_mou_8',\n",
              " 'loc_ic_mou_9',\n",
              " 'std_ic_t2t_mou_6',\n",
              " 'std_ic_t2t_mou_7',\n",
              " 'std_ic_t2t_mou_8',\n",
              " 'std_ic_t2t_mou_9',\n",
              " 'std_ic_t2m_mou_6',\n",
              " 'std_ic_t2m_mou_7',\n",
              " 'std_ic_t2m_mou_8',\n",
              " 'std_ic_t2m_mou_9',\n",
              " 'std_ic_t2f_mou_6',\n",
              " 'std_ic_t2f_mou_7',\n",
              " 'std_ic_t2f_mou_8',\n",
              " 'std_ic_t2f_mou_9',\n",
              " 'std_ic_t2o_mou_6',\n",
              " 'std_ic_t2o_mou_7',\n",
              " 'std_ic_t2o_mou_8',\n",
              " 'std_ic_t2o_mou_9',\n",
              " 'std_ic_mou_6',\n",
              " 'std_ic_mou_7',\n",
              " 'std_ic_mou_8',\n",
              " 'std_ic_mou_9',\n",
              " 'total_ic_mou_6',\n",
              " 'total_ic_mou_7',\n",
              " 'total_ic_mou_8',\n",
              " 'total_ic_mou_9',\n",
              " 'spl_ic_mou_6',\n",
              " 'spl_ic_mou_7',\n",
              " 'spl_ic_mou_8',\n",
              " 'spl_ic_mou_9',\n",
              " 'isd_ic_mou_6',\n",
              " 'isd_ic_mou_7',\n",
              " 'isd_ic_mou_8',\n",
              " 'isd_ic_mou_9',\n",
              " 'ic_others_6',\n",
              " 'ic_others_7',\n",
              " 'ic_others_8',\n",
              " 'ic_others_9',\n",
              " 'total_rech_num_6',\n",
              " 'total_rech_num_7',\n",
              " 'total_rech_num_8',\n",
              " 'total_rech_num_9',\n",
              " 'total_rech_amt_6',\n",
              " 'total_rech_amt_7',\n",
              " 'total_rech_amt_8',\n",
              " 'total_rech_amt_9',\n",
              " 'max_rech_amt_6',\n",
              " 'max_rech_amt_7',\n",
              " 'max_rech_amt_8',\n",
              " 'max_rech_amt_9',\n",
              " 'date_of_last_rech_6',\n",
              " 'date_of_last_rech_7',\n",
              " 'date_of_last_rech_8',\n",
              " 'date_of_last_rech_9',\n",
              " 'last_day_rch_amt_6',\n",
              " 'last_day_rch_amt_7',\n",
              " 'last_day_rch_amt_8',\n",
              " 'last_day_rch_amt_9',\n",
              " 'date_of_last_rech_data_6',\n",
              " 'date_of_last_rech_data_7',\n",
              " 'date_of_last_rech_data_8',\n",
              " 'date_of_last_rech_data_9',\n",
              " 'total_rech_data_6',\n",
              " 'total_rech_data_7',\n",
              " 'total_rech_data_8',\n",
              " 'total_rech_data_9',\n",
              " 'max_rech_data_6',\n",
              " 'max_rech_data_7',\n",
              " 'max_rech_data_8',\n",
              " 'max_rech_data_9',\n",
              " 'count_rech_2g_6',\n",
              " 'count_rech_2g_7',\n",
              " 'count_rech_2g_8',\n",
              " 'count_rech_2g_9',\n",
              " 'count_rech_3g_6',\n",
              " 'count_rech_3g_7',\n",
              " 'count_rech_3g_8',\n",
              " 'count_rech_3g_9',\n",
              " 'av_rech_amt_data_6',\n",
              " 'av_rech_amt_data_7',\n",
              " 'av_rech_amt_data_8',\n",
              " 'av_rech_amt_data_9',\n",
              " 'vol_2g_mb_6',\n",
              " 'vol_2g_mb_7',\n",
              " 'vol_2g_mb_8',\n",
              " 'vol_2g_mb_9',\n",
              " 'vol_3g_mb_6',\n",
              " 'vol_3g_mb_7',\n",
              " 'vol_3g_mb_8',\n",
              " 'vol_3g_mb_9',\n",
              " 'arpu_3g_6',\n",
              " 'arpu_3g_7',\n",
              " 'arpu_3g_8',\n",
              " 'arpu_3g_9',\n",
              " 'arpu_2g_6',\n",
              " 'arpu_2g_7',\n",
              " 'arpu_2g_8',\n",
              " 'arpu_2g_9',\n",
              " 'night_pck_user_6',\n",
              " 'night_pck_user_7',\n",
              " 'night_pck_user_8',\n",
              " 'night_pck_user_9',\n",
              " 'monthly_2g_6',\n",
              " 'monthly_2g_7',\n",
              " 'monthly_2g_8',\n",
              " 'monthly_2g_9',\n",
              " 'sachet_2g_6',\n",
              " 'sachet_2g_7',\n",
              " 'sachet_2g_8',\n",
              " 'sachet_2g_9',\n",
              " 'monthly_3g_6',\n",
              " 'monthly_3g_7',\n",
              " 'monthly_3g_8',\n",
              " 'monthly_3g_9',\n",
              " 'sachet_3g_6',\n",
              " 'sachet_3g_7',\n",
              " 'sachet_3g_8',\n",
              " 'sachet_3g_9',\n",
              " 'fb_user_6',\n",
              " 'fb_user_7',\n",
              " 'fb_user_8',\n",
              " 'fb_user_9',\n",
              " 'aon',\n",
              " 'aug_vbc_3g',\n",
              " 'jul_vbc_3g',\n",
              " 'jun_vbc_3g',\n",
              " 'sep_vbc_3g']"
            ]
          },
          "metadata": {
            "tags": []
          },
          "execution_count": 14
        }
      ]
    },
    {
      "cell_type": "code",
      "metadata": {
        "colab_type": "code",
        "id": "HPsh5neEmIrz",
        "outputId": "5b3cc097-ab5b-4b7d-8baa-201cdc9bab75",
        "colab": {
          "base_uri": "https://localhost:8080/",
          "height": 442
        }
      },
      "source": [
        "# grouping all the features based on data types to find all the features are belong to respective \n",
        "# datatype\n",
        "df.columns.to_series().groupby(df.dtypes).groups"
      ],
      "execution_count": 15,
      "outputs": [
        {
          "output_type": "execute_result",
          "data": {
            "text/plain": [
              "{dtype('int64'): Index(['mobile_number', 'circle_id', 'total_rech_num_6', 'total_rech_num_7',\n",
              "        'total_rech_num_8', 'total_rech_num_9', 'total_rech_amt_6',\n",
              "        'total_rech_amt_7', 'total_rech_amt_8', 'total_rech_amt_9',\n",
              "        'max_rech_amt_6', 'max_rech_amt_7', 'max_rech_amt_8', 'max_rech_amt_9',\n",
              "        'last_day_rch_amt_6', 'last_day_rch_amt_7', 'last_day_rch_amt_8',\n",
              "        'last_day_rch_amt_9', 'monthly_2g_6', 'monthly_2g_7', 'monthly_2g_8',\n",
              "        'monthly_2g_9', 'sachet_2g_6', 'sachet_2g_7', 'sachet_2g_8',\n",
              "        'sachet_2g_9', 'monthly_3g_6', 'monthly_3g_7', 'monthly_3g_8',\n",
              "        'monthly_3g_9', 'sachet_3g_6', 'sachet_3g_7', 'sachet_3g_8',\n",
              "        'sachet_3g_9', 'aon'],\n",
              "       dtype='object'),\n",
              " dtype('float64'): Index(['loc_og_t2o_mou', 'std_og_t2o_mou', 'loc_ic_t2o_mou', 'arpu_6',\n",
              "        'arpu_7', 'arpu_8', 'arpu_9', 'onnet_mou_6', 'onnet_mou_7',\n",
              "        'onnet_mou_8',\n",
              "        ...\n",
              "        'night_pck_user_8', 'night_pck_user_9', 'fb_user_6', 'fb_user_7',\n",
              "        'fb_user_8', 'fb_user_9', 'aug_vbc_3g', 'jul_vbc_3g', 'jun_vbc_3g',\n",
              "        'sep_vbc_3g'],\n",
              "       dtype='object', length=179),\n",
              " dtype('O'): Index(['last_date_of_month_6', 'last_date_of_month_7', 'last_date_of_month_8',\n",
              "        'last_date_of_month_9', 'date_of_last_rech_6', 'date_of_last_rech_7',\n",
              "        'date_of_last_rech_8', 'date_of_last_rech_9',\n",
              "        'date_of_last_rech_data_6', 'date_of_last_rech_data_7',\n",
              "        'date_of_last_rech_data_8', 'date_of_last_rech_data_9'],\n",
              "       dtype='object')}"
            ]
          },
          "metadata": {
            "tags": []
          },
          "execution_count": 15
        }
      ]
    },
    {
      "cell_type": "code",
      "metadata": {
        "colab_type": "code",
        "id": "YXSZWDqMg-9T",
        "colab": {}
      },
      "source": [
        "##### Date columns are in object datatype which needs to converted into datatype"
      ],
      "execution_count": 0,
      "outputs": []
    },
    {
      "cell_type": "code",
      "metadata": {
        "colab_type": "code",
        "id": "YxSlpa64pkPm",
        "colab": {}
      },
      "source": [
        "datetype_cols = ['last_date_of_month_6', 'last_date_of_month_7', 'last_date_of_month_8',\n",
        "        'last_date_of_month_9', 'date_of_last_rech_6', 'date_of_last_rech_7',\n",
        "        'date_of_last_rech_8', 'date_of_last_rech_9','date_of_last_rech_data_6', 'date_of_last_rech_data_7',\n",
        "        'date_of_last_rech_data_8', 'date_of_last_rech_data_9']\n",
        "df[datetype_cols] = df[datetype_cols].apply(pd.to_datetime)"
      ],
      "execution_count": 0,
      "outputs": []
    },
    {
      "cell_type": "code",
      "metadata": {
        "colab_type": "code",
        "id": "BYPhg7VWsxr9",
        "colab": {}
      },
      "source": [
        "\n",
        "# grouping all the features based on data types \n",
        "df.columns.to_series().groupby(df.dtypes).groups"
      ],
      "execution_count": 0,
      "outputs": []
    },
    {
      "cell_type": "code",
      "metadata": {
        "colab_type": "code",
        "id": "Z-SL8LY6s1AW",
        "colab": {}
      },
      "source": [
        "##### All date data types are changed from string to date"
      ],
      "execution_count": 0,
      "outputs": []
    },
    {
      "cell_type": "code",
      "metadata": {
        "colab_type": "code",
        "id": "z24KKrY4TOA-",
        "colab": {}
      },
      "source": [
        "pd.set_option('display.max_columns', 500)\n",
        "df.describe()"
      ],
      "execution_count": 0,
      "outputs": []
    },
    {
      "cell_type": "code",
      "metadata": {
        "colab_type": "code",
        "id": "tRzFiVYETnbS",
        "colab": {}
      },
      "source": [
        "# checking any duplicates are in the given dataset\n",
        "any(df.duplicated())"
      ],
      "execution_count": 0,
      "outputs": []
    },
    {
      "cell_type": "code",
      "metadata": {
        "colab_type": "code",
        "id": "ZXxTQSTITvph",
        "colab": {}
      },
      "source": [
        "df.head()"
      ],
      "execution_count": 0,
      "outputs": []
    },
    {
      "cell_type": "code",
      "metadata": {
        "colab_type": "code",
        "id": "NvR-WtLUj8mA",
        "colab": {}
      },
      "source": [
        "##### finding and dropping columns has unique value in all the rows"
      ],
      "execution_count": 0,
      "outputs": []
    },
    {
      "cell_type": "code",
      "metadata": {
        "colab_type": "code",
        "id": "L0SO9N9oiuF7",
        "colab": {}
      },
      "source": [
        "no_unique = df.apply(pd.Series.nunique)\n",
        "uniqueval_cols = no_unique[no_unique == 1].index\n",
        "print(\"Unique value columns\",uniqueval_cols)\n",
        "df.drop(uniqueval_cols, axis=1,inplace =True)\n"
      ],
      "execution_count": 0,
      "outputs": []
    },
    {
      "cell_type": "code",
      "metadata": {
        "colab_type": "code",
        "id": "shSXzqnQiDwL",
        "colab": {}
      },
      "source": [
        "##### Handling Missing Values"
      ],
      "execution_count": 0,
      "outputs": []
    },
    {
      "cell_type": "code",
      "metadata": {
        "colab_type": "code",
        "id": "AFtldex_T0r2",
        "colab": {}
      },
      "source": [
        "def missingvaluesplot(df,percentage):\n",
        "    missingvalues =df.isnull().sum()/df.shape[0]\n",
        "    missingvalues =missingvalues[missingvalues>percentage]\n",
        "    missingvalues.sort_values(inplace =True, ascending = False)\n",
        "    return missingvalues"
      ],
      "execution_count": 0,
      "outputs": []
    },
    {
      "cell_type": "code",
      "metadata": {
        "colab_type": "code",
        "id": "FQITYQqpUPWW",
        "colab": {}
      },
      "source": [
        "# plotting all missing values\n",
        "missingvalues =missingvaluesplot(df,0.0)\n",
        "figure = plt.figure(figsize =(20,20))\n",
        "\n",
        "missingvalues.plot.bar()\n",
        "missingvalues"
      ],
      "execution_count": 0,
      "outputs": []
    },
    {
      "cell_type": "code",
      "metadata": {
        "colab_type": "code",
        "id": "hC-5G2h9WpRs",
        "colab": {}
      },
      "source": [
        "# plotting  features more than 10% missing values\n",
        "missingvalues =missingvaluesplot(df,0.1)\n",
        "figure = plt.figure(figsize =(20,20))\n",
        "\n",
        "missingvalues.plot.bar()"
      ],
      "execution_count": 0,
      "outputs": []
    },
    {
      "cell_type": "code",
      "metadata": {
        "colab_type": "code",
        "id": "66mHfnHPQHBj",
        "colab": {}
      },
      "source": [
        "# more than 70% missing values are not handled with imputation algorithm,  imputing missing values \n",
        "# manually which has more than 70% data"
      ],
      "execution_count": 0,
      "outputs": []
    },
    {
      "cell_type": "code",
      "metadata": {
        "colab_type": "code",
        "id": "zaPO-t7BkTVA",
        "colab": {}
      },
      "source": [
        "# Extracting day from date column. given data is june,july, august,september months of 2014. \n",
        "# For every month seperate column is given.\n",
        "# As Date column is difficult to input into PCA, derived day only from all date column. The given dataset\n",
        "# has only 2014 for jun, july, august, september months. _6 column has jun2014 data, _7 column has \n",
        "#jul2014 data, _8 column has August2014 data. So day is enough for particular month."
      ],
      "execution_count": 0,
      "outputs": []
    },
    {
      "cell_type": "code",
      "metadata": {
        "colab_type": "code",
        "id": "pJpZh-CQK8U6",
        "colab": {}
      },
      "source": [
        "\n",
        "df['last_rech_date_june'] = df['date_of_last_rech_6'].apply(lambda x:x.day)\n",
        "df['last_rech_date_july'] = df['date_of_last_rech_6'].apply(lambda x:x.day)\n",
        "df['last_rech_date_august'] = df['date_of_last_rech_6'].apply(lambda x:x.day)\n"
      ],
      "execution_count": 0,
      "outputs": []
    },
    {
      "cell_type": "code",
      "metadata": {
        "colab_type": "code",
        "id": "fAWL3a0QlnRZ",
        "colab": {}
      },
      "source": [
        "#### Dropping the below date columns as all columns are having more than 70% not able to impute manually\n",
        "#### with default values. "
      ],
      "execution_count": 0,
      "outputs": []
    },
    {
      "cell_type": "code",
      "metadata": {
        "colab_type": "code",
        "id": "eW9-cbQLpNTC",
        "colab": {}
      },
      "source": [
        "df.drop(['date_of_last_rech_6','date_of_last_rech_7','date_of_last_rech_8','date_of_last_rech_9'],axis =1,\n",
        "       inplace = True)"
      ],
      "execution_count": 0,
      "outputs": []
    },
    {
      "cell_type": "code",
      "metadata": {
        "colab_type": "code",
        "id": "c4I_okVLfsBq",
        "colab": {}
      },
      "source": [
        "df.head()"
      ],
      "execution_count": 0,
      "outputs": []
    },
    {
      "cell_type": "code",
      "metadata": {
        "colab_type": "code",
        "id": "Sn51KitMmCB7",
        "colab": {}
      },
      "source": [
        "#### checking whether null values in the recharge related columns are indicating that those numbers are \n",
        "#### not recharged. so that it is confirmed that it can be replaced with zero\n",
        "# It shows that for all null values in total_rech_data_6,_7,_8,_9 and av_rech_amt_data_6,_7,_8,_9 implies\n",
        "# that no recharge happened for 4 months for 75% customers. whoever is not recharged even for one time\n",
        "#in a particular month thier total_rech_data_6,_7,_8,_9 are null values and their corresponding\n",
        "#av_rech_amt_data_6,_7,_8,_9 are null\n",
        "# av_rech_amt_data_6,_7,_8,_9 null values can be replaced with zeros\n",
        "# It shows that customer who has no recharge for data, for those the arpu_3g and arpu_2g is null, so arpu_3g \n",
        "#arpu_2g null values can be replaced with zeros"
      ],
      "execution_count": 0,
      "outputs": []
    },
    {
      "cell_type": "code",
      "metadata": {
        "colab_type": "code",
        "id": "YzGRugXUMGC8",
        "colab": {}
      },
      "source": [
        "if (df['total_rech_data_6'].isnull().sum() == df['date_of_last_rech_data_6'].isnull().sum()) & (df['total_rech_data_6'].isnull().sum() == df['max_rech_data_6'].isnull().sum()) & (df['total_rech_data_6'].isnull().sum() == df['av_rech_amt_data_6'].isnull().sum()) & (df['total_rech_data_6'].isnull().sum() == df['arpu_3g_6'].isnull().sum()) & (df['total_rech_data_6'].isnull().sum() == df['arpu_2g_6'].isnull().sum()):\n",
        "    print(df['total_rech_data_6'].isnull().sum(),\" customers are not recharged in june month\")\n",
        "if (df['total_rech_data_7'].isnull().sum() == df['date_of_last_rech_data_7'].isnull().sum()) & (df['total_rech_data_7'].isnull().sum() == df['max_rech_data_7'].isnull().sum()) & (df['total_rech_data_7'].isnull().sum() == df['av_rech_amt_data_7'].isnull().sum()) & (df['total_rech_data_7'].isnull().sum() == df['arpu_3g_7'].isnull().sum()) & (df['total_rech_data_7'].isnull().sum() == df['arpu_2g_7'].isnull().sum()):\n",
        "    print(df['total_rech_data_7'].isnull().sum(),\" customers are not recharged in july month\")\n",
        "if (df['total_rech_data_8'].isnull().sum() == df['date_of_last_rech_data_8'].isnull().sum()) & (df['total_rech_data_8'].isnull().sum() == df['max_rech_data_8'].isnull().sum()) & (df['total_rech_data_8'].isnull().sum() == df['av_rech_amt_data_8'].isnull().sum()) & (df['total_rech_data_8'].isnull().sum() == df['arpu_3g_8'].isnull().sum()) & (df['total_rech_data_8'].isnull().sum() == df['arpu_2g_8'].isnull().sum()):\n",
        "    print(df['total_rech_data_8'].isnull().sum(),\" customers are not recharged in august month\")\n",
        "if (df['total_rech_data_9'].isnull().sum() == df['date_of_last_rech_data_9'].isnull().sum()) & (df['total_rech_data_9'].isnull().sum() == df['max_rech_data_9'].isnull().sum()) & (df['total_rech_data_9'].isnull().sum() == df['av_rech_amt_data_9'].isnull().sum()) & (df['total_rech_data_9'].isnull().sum() == df['arpu_3g_9'].isnull().sum()) & (df['total_rech_data_9'].isnull().sum() == df['arpu_2g_9'].isnull().sum()):\n",
        "    print(df['total_rech_data_9'].isnull().sum(),\" customers are not recharged in sep month\")"
      ],
      "execution_count": 0,
      "outputs": []
    },
    {
      "cell_type": "code",
      "metadata": {
        "colab_type": "code",
        "id": "ZmkrwlWvWzR1",
        "colab": {}
      },
      "source": [
        "#for imputing with zeros, select all the columns but not date column\n",
        "missingvalues =missingvalues[df[missingvalues.index].dtypes !='<M8[ns]']\n",
        "missingvalues"
      ],
      "execution_count": 0,
      "outputs": []
    },
    {
      "cell_type": "code",
      "metadata": {
        "colab_type": "code",
        "id": "Zqk0cdrQVhdN",
        "colab": {}
      },
      "source": [
        "#imputing all the numeric columns which has more than 70% and which are not recharged for that particular\n",
        "# month\n",
        "def imputewithzero(col):\n",
        "    df[col].fillna(0,inplace =True)\n",
        "\n",
        "\n",
        "\n",
        "for col in missingvalues.index:\n",
        "    imputewithzero(col)\n",
        "  "
      ],
      "execution_count": 0,
      "outputs": []
    },
    {
      "cell_type": "code",
      "metadata": {
        "colab_type": "code",
        "id": "u5JQ-8Bua1wC",
        "colab": {}
      },
      "source": [
        "##displaying unhandled missing values which are not able to impute with zeros\n",
        "missingvalues =missingvaluesplot(df,0.1)\n",
        "missingvalues"
      ],
      "execution_count": 0,
      "outputs": []
    },
    {
      "cell_type": "code",
      "metadata": {
        "colab_type": "code",
        "id": "zX10o7odj-ai",
        "colab": {}
      },
      "source": [
        "# drop those date column as not able to impute with proper value\n",
        "df.drop(missingvalues.index,axis =1, inplace =True)"
      ],
      "execution_count": 0,
      "outputs": []
    },
    {
      "cell_type": "code",
      "metadata": {
        "colab_type": "code",
        "id": "HII5M-sTkHma",
        "colab": {}
      },
      "source": [
        "missingvalues =missingvaluesplot(df,0.1)\n",
        "missingvalues"
      ],
      "execution_count": 0,
      "outputs": []
    },
    {
      "cell_type": "code",
      "metadata": {
        "colab_type": "code",
        "id": "v_goSyWTp5hI",
        "colab": {}
      },
      "source": [
        "#### No missing values more than 10%"
      ],
      "execution_count": 0,
      "outputs": []
    },
    {
      "cell_type": "code",
      "metadata": {
        "colab_type": "code",
        "id": "OQE_8xHwjYUd",
        "colab": {}
      },
      "source": [
        "#display missing values which are less than 10%\n",
        "missing_values=missingvaluesplot(df,0.0)\n",
        "\n",
        "missing_values"
      ],
      "execution_count": 0,
      "outputs": []
    },
    {
      "cell_type": "code",
      "metadata": {
        "colab_type": "code",
        "id": "XT6lrMW-wmqZ",
        "colab": {}
      },
      "source": [
        "len(missing_values)"
      ],
      "execution_count": 0,
      "outputs": []
    },
    {
      "cell_type": "code",
      "metadata": {
        "colab_type": "code",
        "id": "zecrhC9rjlJ0",
        "colab": {}
      },
      "source": [
        "\n",
        "imputingcols=missing_values.index"
      ],
      "execution_count": 0,
      "outputs": []
    },
    {
      "cell_type": "code",
      "metadata": {
        "colab_type": "code",
        "id": "s1fqmsddY12p",
        "colab": {}
      },
      "source": [
        "df.shape"
      ],
      "execution_count": 0,
      "outputs": []
    },
    {
      "cell_type": "code",
      "metadata": {
        "colab_type": "code",
        "id": "C_dp_8vHjxjb",
        "colab": {}
      },
      "source": [
        "len(imputingcols)"
      ],
      "execution_count": 0,
      "outputs": []
    },
    {
      "cell_type": "code",
      "metadata": {
        "colab_type": "code",
        "id": "7ql69FUQuZR9",
        "colab": {}
      },
      "source": [
        "#sacling the features before inputting into alogorithm\n",
        "from sklearn.preprocessing import StandardScaler\n",
        "\n",
        "scal = StandardScaler()\n",
        "scaledcols =scal.fit_transform(df[imputingcols])\n"
      ],
      "execution_count": 0,
      "outputs": []
    },
    {
      "cell_type": "code",
      "metadata": {
        "colab_type": "code",
        "id": "kidoHQTkYl_t",
        "colab": {}
      },
      "source": [
        "#using MICE to impute missing values\n",
        "ImputedValues = MICE().fit_transform(scaledcols)"
      ],
      "execution_count": 0,
      "outputs": []
    },
    {
      "cell_type": "code",
      "metadata": {
        "colab_type": "code",
        "id": "Rmelh6w-mC_e",
        "colab": {}
      },
      "source": [
        "ImputedValues.shape"
      ],
      "execution_count": 0,
      "outputs": []
    },
    {
      "cell_type": "code",
      "metadata": {
        "colab_type": "code",
        "id": "ECSbkJyE3j8p",
        "colab": {}
      },
      "source": [
        "\n",
        "#with open('parrot.pkl', 'wb') as f:\n",
        "#  pickle.dump(ImputedValues, f)"
      ],
      "execution_count": 0,
      "outputs": []
    },
    {
      "cell_type": "code",
      "metadata": {
        "colab_type": "code",
        "id": "EryR0Uch3zsr",
        "colab": {}
      },
      "source": [
        "\n",
        "#with open('parrot.pkl', 'rb') as f:\n",
        "#  mynewlist = pickle.load(f)\n",
        "#mynewlist"
      ],
      "execution_count": 0,
      "outputs": []
    },
    {
      "cell_type": "code",
      "metadata": {
        "colab_type": "code",
        "id": "OvYRt5G888fI",
        "colab": {}
      },
      "source": [
        "# inverse the imputed results into original format for further intrepretation\n",
        "ImpuRevTrans=scal.inverse_transform(ImputedValues)"
      ],
      "execution_count": 0,
      "outputs": []
    },
    {
      "cell_type": "code",
      "metadata": {
        "colab_type": "code",
        "id": "53CBsdVb9GOL",
        "colab": {}
      },
      "source": [
        "#temp \n",
        "#impuRevTranPickle=scal.inverse_transform(mynewlist)"
      ],
      "execution_count": 0,
      "outputs": []
    },
    {
      "cell_type": "code",
      "metadata": {
        "colab_type": "code",
        "id": "oSxtyoIPaCiL",
        "colab": {}
      },
      "source": [
        "dfimputed = df.copy()"
      ],
      "execution_count": 0,
      "outputs": []
    },
    {
      "cell_type": "code",
      "metadata": {
        "colab_type": "code",
        "id": "yuND3IuR4P9m",
        "colab": {}
      },
      "source": [
        "dfimputed[imputingcols]=ImpuRevTrans"
      ],
      "execution_count": 0,
      "outputs": []
    },
    {
      "cell_type": "code",
      "metadata": {
        "colab_type": "code",
        "id": "Z32jvooi9Yhm",
        "colab": {}
      },
      "source": [
        "#dfimputed[imputingcols]=impuRevTranPickle"
      ],
      "execution_count": 0,
      "outputs": []
    },
    {
      "cell_type": "code",
      "metadata": {
        "colab_type": "code",
        "id": "kym3ht5MJoxW",
        "colab": {}
      },
      "source": [
        "##### after imputation, confirming any missing values are still present."
      ],
      "execution_count": 0,
      "outputs": []
    },
    {
      "cell_type": "code",
      "metadata": {
        "colab_type": "code",
        "id": "mt_OGIfs4UsT",
        "colab": {}
      },
      "source": [
        "missing_values=missingvaluesplot(dfimputed,0.0)\n",
        "\n",
        "figure = plt.figure(figsize =(20,20))\n",
        "missing_values"
      ],
      "execution_count": 0,
      "outputs": []
    },
    {
      "cell_type": "code",
      "metadata": {
        "colab_type": "code",
        "id": "pmV_ERXgXOc4",
        "colab": {}
      },
      "source": [
        "##### Derived Columns"
      ],
      "execution_count": 0,
      "outputs": []
    },
    {
      "cell_type": "code",
      "metadata": {
        "colab_type": "code",
        "id": "DbNo1mpK4uvv",
        "colab": {}
      },
      "source": [
        "# finding total data recharge amount by multiplying average datarecharge amount with number of times of recharging\n",
        "dfimputed['total_data_recharge_6']=dfimputed['total_rech_data_6'] *dfimputed['av_rech_amt_data_6']\n",
        "dfimputed['total_data_recharge_7']=dfimputed.total_rech_data_7 *dfimputed.av_rech_amt_data_7\n",
        "\n",
        "\n",
        "#### finding total recharge amount and average recharge amount in goodphase(jun and july)\n",
        "dfimputed['total_rechamt_withdata_6'] = dfimputed.total_rech_amt_6 + dfimputed.total_data_recharge_6\n",
        "dfimputed['total_rechamt_withdata_7'] = dfimputed.total_rech_amt_7 + dfimputed.total_data_recharge_7\n",
        "\n",
        "dfimputed['tot_amt_rech_goodphase'] = dfimputed['total_rechamt_withdata_7'] +dfimputed['total_rechamt_withdata_6']\n",
        "dfimputed['av_amt_rech_goodphase'] = dfimputed.tot_amt_rech_goodphase/2\n",
        "\n",
        "#### finding HVC who has total recharge amount  in goodphase period is greater than\n",
        "#70 percentile of average recharge amount in good phase period\n"
      ],
      "execution_count": 0,
      "outputs": []
    },
    {
      "cell_type": "code",
      "metadata": {
        "colab_type": "code",
        "id": "HePtwr7P_Kf1",
        "colab": {}
      },
      "source": [
        "# Drop the intermediate columns which are created while finding average recharge amount in good phase \n",
        "dfimputed.drop(['total_data_recharge_6','total_data_recharge_7','total_rechamt_withdata_6',\n",
        "               'total_rechamt_withdata_7'],axis =1,inplace =True)"
      ],
      "execution_count": 0,
      "outputs": []
    },
    {
      "cell_type": "code",
      "metadata": {
        "colab_type": "code",
        "id": "hwSdZSSD_7Wf",
        "colab": {}
      },
      "source": [
        "dfimputed.head()"
      ],
      "execution_count": 0,
      "outputs": []
    },
    {
      "cell_type": "code",
      "metadata": {
        "colab_type": "code",
        "id": "eFaOE0detvO5",
        "colab": {}
      },
      "source": [
        "# finding the change in customers behaviour in good phase and action phase\n",
        "dfimputed['total_rech_amt_withdata_8']=(dfimputed.total_rech_data_8 *dfimputed.av_rech_amt_data_8)+dfimputed.total_rech_amt_8\n"
      ],
      "execution_count": 0,
      "outputs": []
    },
    {
      "cell_type": "code",
      "metadata": {
        "colab_type": "code",
        "id": "_DAyfphetkCU",
        "colab": {}
      },
      "source": [
        "dfimputed['diff_rechamt_good_action_phase'] =dfimputed.apply(lambda x: x.av_amt_rech_goodphase- x.total_rech_amt_withdata_8, axis=1)"
      ],
      "execution_count": 0,
      "outputs": []
    },
    {
      "cell_type": "code",
      "metadata": {
        "colab_type": "code",
        "id": "RLQCIdzDjx6I",
        "colab": {}
      },
      "source": [
        "dfimputed[dfimputed['diff_rechamt_good_action_phase'] <=0].shape[0]"
      ],
      "execution_count": 0,
      "outputs": []
    },
    {
      "cell_type": "code",
      "metadata": {
        "colab_type": "code",
        "id": "sVSxefj0j_fC",
        "colab": {}
      },
      "source": [
        "dfimputed[dfimputed['diff_rechamt_good_action_phase'] >0].shape[0]"
      ],
      "execution_count": 0,
      "outputs": []
    },
    {
      "cell_type": "code",
      "metadata": {
        "colab_type": "code",
        "id": "5CwZ84WU4vFh",
        "colab": {}
      },
      "source": [
        "#### not much variation could be found whether recharge is done in action phase is more or good phase, as in both phases \n",
        "#### given customers recharged almost equally"
      ],
      "execution_count": 0,
      "outputs": []
    },
    {
      "cell_type": "code",
      "metadata": {
        "colab_type": "code",
        "id": "6eHIXoSrXEYW",
        "colab": {}
      },
      "source": [
        "#### Finding High Value Customer(HVC)"
      ],
      "execution_count": 0,
      "outputs": []
    },
    {
      "cell_type": "code",
      "metadata": {
        "colab_type": "code",
        "id": "mGnz6a9r5XVs",
        "colab": {}
      },
      "source": [
        "#Finding percentile 70% and HVC\n",
        "percentile70 = dfimputed['av_amt_rech_goodphase'].quantile(.70)\n",
        "dfimputed['HVC'] = dfimputed.apply(lambda row: 'HVC' if (row.av_amt_rech_goodphase >=  percentile70) \n",
        "                                   else 'NoHVC', axis = 1)"
      ],
      "execution_count": 0,
      "outputs": []
    },
    {
      "cell_type": "code",
      "metadata": {
        "colab_type": "code",
        "id": "mm_xy3ox5PSa",
        "colab": {}
      },
      "source": [
        "# filtered High Value customers only\n",
        "df_hvc =dfimputed[dfimputed.HVC =='HVC']"
      ],
      "execution_count": 0,
      "outputs": []
    },
    {
      "cell_type": "code",
      "metadata": {
        "colab_type": "code",
        "id": "_VYXMO0r6-Y9",
        "colab": {}
      },
      "source": [
        "percentile70"
      ],
      "execution_count": 0,
      "outputs": []
    },
    {
      "cell_type": "code",
      "metadata": {
        "colab_type": "code",
        "id": "VHddkeyt5cx6",
        "colab": {}
      },
      "source": [
        "df_hvc.shape"
      ],
      "execution_count": 0,
      "outputs": []
    },
    {
      "cell_type": "code",
      "metadata": {
        "colab_type": "code",
        "id": "pUBNizRldfCM",
        "colab": {}
      },
      "source": [
        "#Tag 'Churn' or 'notchurn' for each customer based on given business logic\n",
        "df_hvc['Churn'] =df_hvc.apply(lambda x: 1 if (x.total_ic_mou_9 ==0) & (x.total_og_mou_9==0) & \n",
        "                      (x.vol_2g_mb_9 ==0 )& (x.vol_3g_mb_9==0) else 0,axis=1)"
      ],
      "execution_count": 0,
      "outputs": []
    },
    {
      "cell_type": "code",
      "metadata": {
        "colab_type": "code",
        "id": "Hw_SUd8BDo1g",
        "colab": {}
      },
      "source": [
        "df_hvc.shape"
      ],
      "execution_count": 0,
      "outputs": []
    },
    {
      "cell_type": "code",
      "metadata": {
        "colab_type": "code",
        "id": "JLK2xfDBZ2Yw",
        "colab": {}
      },
      "source": [
        "#drop the columns related to churn phase\n",
        "df_hvc.loc[:,df_hvc.columns.str.endswith('_9')].shape"
      ],
      "execution_count": 0,
      "outputs": []
    },
    {
      "cell_type": "code",
      "metadata": {
        "colab_type": "code",
        "id": "8BGBYqZfDwcM",
        "colab": {}
      },
      "source": [
        "#df_churn= df_hvc.loc[:,~df_hvc.columns.str.startswith('_9')]\n",
        "df_churn = df_hvc.drop(df_hvc.filter(regex = '_9').columns,axis=1)"
      ],
      "execution_count": 0,
      "outputs": []
    },
    {
      "cell_type": "code",
      "metadata": {
        "colab_type": "code",
        "id": "sYSOp7P6C-TH",
        "colab": {}
      },
      "source": [
        "df_churn.shape"
      ],
      "execution_count": 0,
      "outputs": []
    },
    {
      "cell_type": "code",
      "metadata": {
        "colab_type": "code",
        "id": "B1rxg3vFfyJj",
        "colab": {}
      },
      "source": [
        "sorted((df_churn.columns.tolist()))"
      ],
      "execution_count": 0,
      "outputs": []
    },
    {
      "cell_type": "code",
      "metadata": {
        "colab_type": "code",
        "id": "8T1nlX28xP3k",
        "colab": {}
      },
      "source": [
        "df_churn.shape"
      ],
      "execution_count": 0,
      "outputs": []
    },
    {
      "cell_type": "code",
      "metadata": {
        "colab_type": "code",
        "id": "m13Wn-MlAx7T",
        "colab": {}
      },
      "source": [
        "#drop the columns circle id as it is not needed for model. As already filtered HVC customers, HVC columns\n",
        "# is not needed\n",
        "df_churn = df_churn.drop(['HVC','mobile_number'],axis=1)"
      ],
      "execution_count": 0,
      "outputs": []
    },
    {
      "cell_type": "code",
      "metadata": {
        "colab_type": "code",
        "id": "DWxGstPmxo-G",
        "colab": {}
      },
      "source": [
        "df_churn.shape"
      ],
      "execution_count": 0,
      "outputs": []
    },
    {
      "cell_type": "code",
      "metadata": {
        "colab_type": "code",
        "id": "3FMbm1RTeU2h",
        "colab": {}
      },
      "source": [
        "# combind june and july month features into one column called goodphase column\n",
        "df_churn['arpu_goodphase']=df_churn[['arpu_6','arpu_7']].mean(axis=1)                                 \n",
        "df_churn['onnet_mou_goodphase']=df_churn[['onnet_mou_6','onnet_mou_7']].mean(axis=1)\n",
        "df_churn['offnet_mou_goodphase']=df_churn[['offnet_mou_6','offnet_mou_7']].mean(axis=1)\n",
        "df_churn['roam_ic_mou_goodphase']=df_churn[['roam_ic_mou_6','roam_ic_mou_7']].mean(axis=1) \n",
        "df_churn['roam_og_mou_goodphase']=df_churn[['roam_og_mou_6','roam_og_mou_7']].mean(axis=1)\n",
        "df_churn['loc_og_t2t_mou_goodphase']=df_churn[['loc_og_t2t_mou_6','loc_og_t2t_mou_7' ]].mean(axis=1)\n",
        "df_churn['loc_og_t2m_mou_goodphase']=df_churn[['loc_og_t2m_mou_6','loc_og_t2m_mou_7']].mean(axis=1)\n",
        "df_churn['loc_og_t2f_mou_goodphase']=df_churn[['loc_og_t2f_mou_6','loc_og_t2f_mou_7'] ].mean(axis=1)\n",
        "df_churn['loc_og_t2c_mou_goodphase']=df_churn[['loc_og_t2c_mou_6',  'loc_og_t2c_mou_7'] ].mean(axis=1)\n",
        "df_churn['loc_og_mou_goodphase']=df_churn[['loc_og_mou_6', 'loc_og_mou_7']].mean(axis=1)\n",
        "df_churn['std_og_t2t_mou_goodphase']=df_churn[['std_og_t2t_mou_6', 'std_og_t2t_mou_7']].mean(axis=1)\n",
        "df_churn['std_og_t2m_mou_goodphase']=df_churn[['std_og_t2m_mou_6', 'std_og_t2m_mou_7']].mean(axis=1)\n",
        "df_churn['std_og_t2f_mou_goodphase']=df_churn[['std_og_t2f_mou_6', 'std_og_t2f_mou_7']].mean(axis=1)\n",
        "#df_churn['std_og_t2c_mou_goodphase']=df_churn[['std_og_t2c_mou_6', 'std_og_t2c_mou_7']].mean(axis=1)\n",
        "df_churn['std_og_mou_goodphase']=df_churn[['std_og_mou_6', 'std_og_mou_7']].mean(axis=1)\n",
        "df_churn['isd_og_mou_goodphase']=df_churn[['isd_og_mou_6', 'isd_og_mou_7']].mean(axis=1)\n",
        "df_churn['spl_og_mou_goodphase']=df_churn[['spl_og_mou_6','spl_og_mou_7']].mean(axis=1)\n",
        "df_churn['og_others_goodphase']=df_churn[['og_others_6', 'og_others_7']].mean(axis=1)\n",
        "df_churn['total_og_mou_goodphase']=df_churn[['total_og_mou_6', 'total_og_mou_7']].mean(axis=1)\n",
        "df_churn['loc_ic_t2t_mou_goodphase']=df_churn[['loc_ic_t2t_mou_6','loc_ic_t2t_mou_7']].mean(axis=1) \n",
        "df_churn['loc_ic_t2m_mou_goodphase']=df_churn[['loc_ic_t2m_mou_6','loc_ic_t2m_mou_7']].mean(axis=1)\n",
        "df_churn['loc_ic_t2f_mou_goodphase']=df_churn[['loc_ic_t2f_mou_6','loc_ic_t2f_mou_7'] ].mean(axis=1)\n",
        "df_churn['loc_ic_mou_goodphase']=df_churn[['loc_ic_mou_6','loc_ic_mou_7'] ].mean(axis=1)\n",
        "\n",
        "df_churn['std_ic_t2t_mou_goodphase']=df_churn[['std_ic_t2t_mou_6','std_ic_t2t_mou_7']].mean(axis=1)\n",
        "df_churn['std_ic_t2m_mou_goodphase']=df_churn[['std_ic_t2m_mou_6','std_ic_t2m_mou_7']].mean(axis=1)\n",
        "df_churn['std_ic_t2f_mou_goodphase']=df_churn[['std_ic_t2f_mou_6','std_ic_t2f_mou_7' ]].mean(axis=1)\n",
        "#df_churn['std_ic_t2o_mou_goodphase']=df_churn[['std_ic_t2o_mou_6','std_ic_t2o_mou_7'] ].mean(axis=1)\n",
        "df_churn['std_ic_mou_goodphase']=df_churn[['std_ic_mou_6', 'std_ic_mou_7' ]].mean(axis=1)\n",
        "df_churn['total_ic_mou_goodphase']=df_churn[['total_ic_mou_6', 'total_ic_mou_7']].mean(axis=1)\n",
        "df_churn['spl_ic_mou_goodphase']=df_churn[['spl_ic_mou_6','spl_ic_mou_7']].mean(axis=1)\n",
        "df_churn['isd_ic_mou_goodphase']=df_churn[['isd_ic_mou_6', 'isd_ic_mou_7']].mean(axis=1)\n",
        "df_churn['ic_others_goodphase']=df_churn[['ic_others_6','ic_others_7']].mean(axis=1)\n",
        "df_churn['total_rech_num_goodphase']=df_churn[['total_rech_num_6', 'total_rech_num_7']].mean(axis=1)\n",
        "df_churn['total_rech_amt_goodphase']=df_churn[['total_rech_amt_6', 'total_rech_amt_7']].mean(axis=1)\n",
        "df_churn['total_rech_data_goodphase']=df_churn[['total_rech_data_6', 'total_rech_data_7']].mean(axis=1)\n",
        "df_churn['av_rech_amt_data_goodphase']=df_churn[['av_rech_amt_data_6', 'av_rech_amt_data_7']].mean(axis=1)\n",
        "df_churn['vol_2g_mb_goodphase']=df_churn[['vol_2g_mb_6', 'vol_2g_mb_7'] ].mean(axis=1)\n",
        "df_churn['vol_3g_mb_goodphase']=df_churn[['vol_3g_mb_6', 'vol_3g_mb_7'] ].mean(axis=1)\n",
        "df_churn['arpu_3g_goodphase']=df_churn[['arpu_3g_6', 'arpu_3g_7']].mean(axis=1)\n",
        "df_churn['arpu_2g_goodphase']=df_churn[['arpu_2g_6', 'arpu_2g_7'] ].mean(axis=1)\n",
        "df_churn['monthly_2g_goodphase']=df_churn[['monthly_2g_6', 'monthly_2g_7'] ].mean(axis=1)\n",
        "df_churn['sachet_2g_goodphase']=df_churn[['sachet_2g_6', 'sachet_2g_7'] ].mean(axis=1)      \n",
        "df_churn['monthly_3g_goodphase']=df_churn[['monthly_3g_6', 'monthly_3g_7'] ].mean(axis=1)\n",
        "df_churn['sachet_3g_goodphase']=df_churn[['sachet_3g_6', 'sachet_3g_7'] ].mean(axis=1)\n",
        "df_churn['Vbc_3g_goodphase']= df_churn[['jul_vbc_3g','jun_vbc_3g']].mean(axis=1)\n",
        "\n"
      ],
      "execution_count": 0,
      "outputs": []
    },
    {
      "cell_type": "code",
      "metadata": {
        "colab_type": "code",
        "id": "c_lJ-IATi2Ga",
        "colab": {}
      },
      "source": [
        "df_churn.shape"
      ],
      "execution_count": 0,
      "outputs": []
    },
    {
      "cell_type": "code",
      "metadata": {
        "colab_type": "code",
        "id": "lMONXY-Iujq1",
        "colab": {}
      },
      "source": [
        "# dropping july and june month columns, as already both are combined as good phase column"
      ],
      "execution_count": 0,
      "outputs": []
    },
    {
      "cell_type": "code",
      "metadata": {
        "colab_type": "code",
        "id": "WLzzd47kjLfn",
        "colab": {}
      },
      "source": [
        "df_churn.loc[:,df_churn.columns.str.endswith('_7')].shape"
      ],
      "execution_count": 0,
      "outputs": []
    },
    {
      "cell_type": "code",
      "metadata": {
        "colab_type": "code",
        "id": "NrcK0SiZi853",
        "colab": {}
      },
      "source": [
        "df_churn = df_churn.drop(df_churn.filter(regex = '_7').columns,axis=1)"
      ],
      "execution_count": 0,
      "outputs": []
    },
    {
      "cell_type": "code",
      "metadata": {
        "colab_type": "code",
        "id": "jJc7I1gAjVw_",
        "colab": {}
      },
      "source": [
        "df_churn.shape"
      ],
      "execution_count": 0,
      "outputs": []
    },
    {
      "cell_type": "code",
      "metadata": {
        "colab_type": "code",
        "id": "HUkzUKsMjaLW",
        "colab": {}
      },
      "source": [
        "df_churn.loc[:,df_churn.columns.str.endswith('_6')].shape"
      ],
      "execution_count": 0,
      "outputs": []
    },
    {
      "cell_type": "code",
      "metadata": {
        "colab_type": "code",
        "id": "3iEYzFVojl5T",
        "colab": {}
      },
      "source": [
        "df_churn = df_churn.drop(df_churn.filter(regex = '_6').columns,axis=1)"
      ],
      "execution_count": 0,
      "outputs": []
    },
    {
      "cell_type": "code",
      "metadata": {
        "colab_type": "code",
        "id": "WN-fYb_HjqRo",
        "colab": {}
      },
      "source": [
        "df_churn.shape"
      ],
      "execution_count": 0,
      "outputs": []
    },
    {
      "cell_type": "code",
      "metadata": {
        "colab_type": "code",
        "id": "_tXCgZD5kPJk",
        "colab": {}
      },
      "source": [
        "# Dropping  vbc_3g for june, july, september month\n",
        "df_churn=df_churn.drop(['jul_vbc_3g','jun_vbc_3g','sep_vbc_3g'],axis=1)  "
      ],
      "execution_count": 0,
      "outputs": []
    },
    {
      "cell_type": "code",
      "metadata": {
        "colab_type": "code",
        "id": "YiZSg1sxkXTD",
        "colab": {}
      },
      "source": [
        "df_churn.shape"
      ],
      "execution_count": 0,
      "outputs": []
    },
    {
      "cell_type": "code",
      "metadata": {
        "colab_type": "code",
        "id": "arsqKrV0j4Hr",
        "colab": {}
      },
      "source": [
        "sorted((df_churn.columns.tolist()))"
      ],
      "execution_count": 0,
      "outputs": []
    },
    {
      "cell_type": "code",
      "metadata": {
        "colab_type": "code",
        "id": "90tsTrNdW-Ib",
        "colab": {}
      },
      "source": [
        "##### Tag Churn"
      ],
      "execution_count": 0,
      "outputs": []
    },
    {
      "cell_type": "code",
      "metadata": {
        "colab_type": "code",
        "id": "TDiYxB2Jd7fa",
        "colab": {}
      },
      "source": [
        "\n",
        "print(\"Churn\",df_churn[df_churn.Churn ==1].shape[0]/len(df_churn))\n",
        "print(\"Not Churn\",df_churn[df_churn.Churn==0].shape[0]/len(df_churn))\n"
      ],
      "execution_count": 0,
      "outputs": []
    },
    {
      "cell_type": "code",
      "metadata": {
        "colab_type": "code",
        "id": "KHgolKxGWoZp",
        "colab": {}
      },
      "source": [
        "#### It shows class imbalance. class 1 has very low value and class2 has high value.Sampling needs to be done for solving this class imbalance "
      ],
      "execution_count": 0,
      "outputs": []
    },
    {
      "cell_type": "code",
      "metadata": {
        "colab_type": "code",
        "id": "bsEynfqnAhtt",
        "colab": {}
      },
      "source": [
        "df_churn.Churn.value_counts()"
      ],
      "execution_count": 0,
      "outputs": []
    },
    {
      "cell_type": "code",
      "metadata": {
        "colab_type": "code",
        "id": "hkku8tQFW5r8",
        "colab": {}
      },
      "source": [
        "##### EDA"
      ],
      "execution_count": 0,
      "outputs": []
    },
    {
      "cell_type": "code",
      "metadata": {
        "colab_type": "code",
        "id": "RN3f4544rYuI",
        "colab": {}
      },
      "source": [
        "#Plotting frequency of Churn in percentage wise \n",
        "figure = plt.figure(figsize= (8,6))\n",
        "from matplotlib.ticker import PercentFormatter\n",
        "ax =df_churn.Churn.value_counts(normalize =True).plot(kind='bar')\n",
        "plt.xlabel('Churn')\n",
        "plt.ylabel('Frequency in %')\n",
        "plt.title('Churn Frequency in Percentage')\n",
        "plt.xticks(rotation=0)\n",
        "(y_bottom, y_top) = ax.get_ylim()\n",
        "y_height = y_top - y_bottom\n",
        "plt.gca().yaxis.set_major_formatter(PercentFormatter(1))\n",
        "\n",
        "for bar in ax.patches:\n",
        "    height = bar.get_height()\n",
        "    label_position = height + (y_height * 0.01)\n",
        "    ax.text(bar.get_x() + bar.get_width()/2., label_position,'{0:.2%}'.format(height),ha='center', va='bottom') "
      ],
      "execution_count": 0,
      "outputs": []
    },
    {
      "cell_type": "code",
      "metadata": {
        "colab_type": "code",
        "id": "BtJtjogAPdH0",
        "colab": {}
      },
      "source": [
        "# dropping column which has  90 percentile is 0\n",
        "#numerical =[f for f in df_churn.columns if df_churn.dtypes[f] != 'object']\n",
        "#numerical.remove('Churn')\n",
        "#for col in numerical:\n",
        "#    if (np.percentile(df_churn[col],90) == 0):\n",
        "#        print(col)\n",
        "#        df_churn.drop(col,axis =1,inplace =True)"
      ],
      "execution_count": 0,
      "outputs": []
    },
    {
      "cell_type": "code",
      "metadata": {
        "colab_type": "code",
        "id": "GkkQA12wXeVy",
        "colab": {}
      },
      "source": [
        "\n",
        "df_outlier =df_churn.copy()\n",
        "numerical =[f for f in df_outlier.columns if df_outlier.dtypes[f] != 'object']\n",
        "numerical.remove('Churn')"
      ],
      "execution_count": 0,
      "outputs": []
    },
    {
      "cell_type": "code",
      "metadata": {
        "colab_type": "code",
        "id": "qDYlxCPxlH-m",
        "colab": {}
      },
      "source": [
        "# boxplot to find outliers\n",
        "for col in numerical:\n",
        "    sns.boxplot(x=df_outlier[col],data =df_outlier)\n",
        "    plt.xlabel(col)\n",
        "    plt.show()"
      ],
      "execution_count": 0,
      "outputs": []
    },
    {
      "cell_type": "code",
      "metadata": {
        "colab_type": "code",
        "id": "g3btPODUxiNH",
        "colab": {}
      },
      "source": [
        "##### most of the columns has outliers."
      ],
      "execution_count": 0,
      "outputs": []
    },
    {
      "cell_type": "code",
      "metadata": {
        "colab_type": "code",
        "id": "-HfuuiE5fncJ",
        "colab": {}
      },
      "source": [
        "# Finding outliers\n",
        "def findingOutlier(col):\n",
        "    q1,q3 = np.percentile(df_outlier[col],[25,75])\n",
        "    IQR = q3-q1\n",
        "    lowerbound = q1 - 1.5 * IQR\n",
        "    upperbound = q3 + 1.5 * IQR\n",
        "    print(\"Column:\",col)\n",
        "    print(\"lower bound:\",lowerbound)\n",
        "    print(\"upper bound:\",upperbound)\n",
        "    outlierscount =df_outlier.loc[df_outlier[col]<lowerbound].shape[0]+df_outlier.loc[df_outlier[col]>upperbound].shape[0]\n",
        "    print(\"outliers: \",(outlierscount)/df_outlier[col].shape[0]*100)\n",
        "    \n",
        "    print(\"no. of records having outliers:\",outlierscount,'\\n')\n",
        "\n",
        "\n",
        "for col in numerical:\n",
        "    findingOutlier(col)"
      ],
      "execution_count": 0,
      "outputs": []
    },
    {
      "cell_type": "code",
      "metadata": {
        "colab_type": "code",
        "id": "tzs1L8mcgY_M",
        "colab": {}
      },
      "source": [
        "#handling outliers, replacing outliers with mean and upper bound\n",
        "def HandlingOutlier(col):\n",
        "    q1,q3 = np.percentile(df_outlier[col],[25,75])\n",
        "    IQR = q3-q1\n",
        "    lowerbound = q1 - 1.5 * IQR\n",
        "    upperbound = q3 + 1.5 * IQR\n",
        "    return lowerbound,upperbound\n",
        "\n",
        "\n",
        "\n",
        "for col in numerical:\n",
        "    lowerbound, upperbound=HandlingOutlier(col)\n",
        "    df_outlier.loc[df_outlier[col] > upperbound,col] = np.nan\n",
        "    df_outlier[col].fillna(upperbound,inplace =True)\n",
        "    \n",
        "    mean = df_outlier.loc[df_outlier[col]>lowerbound, col].mean()\n",
        "    df_outlier.loc[df_outlier[col] < lowerbound, col] = np.nan\n",
        "    df_outlier.fillna(mean,inplace=True)\n",
        "    \n",
        "    "
      ],
      "execution_count": 0,
      "outputs": []
    },
    {
      "cell_type": "code",
      "metadata": {
        "colab_type": "code",
        "id": "1uOcLwBakk0m",
        "colab": {}
      },
      "source": [
        "df_outlier.columns.to_series().groupby(df_outlier.dtypes).groups"
      ],
      "execution_count": 0,
      "outputs": []
    },
    {
      "cell_type": "code",
      "metadata": {
        "colab_type": "code",
        "id": "V3rjAj6hhQcf",
        "scrolled": false,
        "colab": {}
      },
      "source": [
        "#after handling outliers, plotting box plot for finding any \n",
        "numerical =[f for f in df_outlier.columns if df_outlier.dtypes[f] != 'object']\n",
        "numerical.remove('Churn')\n",
        "for col in numerical:\n",
        "    sns.boxplot(x=df_outlier[col],data =df_outlier)\n",
        "    plt.xlabel(col)\n",
        "    plt.show()"
      ],
      "execution_count": 0,
      "outputs": []
    },
    {
      "cell_type": "markdown",
      "metadata": {
        "id": "d42Unkn-hCHs",
        "colab_type": "text"
      },
      "source": [
        "#### outliers are handled successully"
      ]
    },
    {
      "cell_type": "code",
      "metadata": {
        "colab_type": "code",
        "id": "rCcpZZmW58d7",
        "scrolled": false,
        "colab": {}
      },
      "source": [
        "# plotting dist plot for interpreting the distribution\n",
        "for col in numerical:\n",
        "  sns.distplot(df_outlier[col])\n",
        "  plt.xlabel(col)\n",
        "  plt.show()\n"
      ],
      "execution_count": 0,
      "outputs": []
    },
    {
      "cell_type": "markdown",
      "metadata": {
        "id": "NPdBx24ThCHv",
        "colab_type": "text"
      },
      "source": [
        "#### None of the columns are normally distributed. recharging related columns(total recharge amout, last day recharge amount, max recharge amount, ect) are quite ok. calls related columns(incoming calls mou, outgoing calls mou etc) are not having any patterns. Recharging are happended  mostly in end of the month which implies, customers mostly prefer monthly package instead of sachet package"
      ]
    },
    {
      "cell_type": "code",
      "metadata": {
        "colab_type": "code",
        "id": "Gbdb_Goy0uty",
        "colab": {}
      },
      "source": [
        "sorted(df_outlier.columns)"
      ],
      "execution_count": 0,
      "outputs": []
    },
    {
      "cell_type": "code",
      "metadata": {
        "colab_type": "code",
        "id": "LgzXclZXyMoM",
        "colab": {}
      },
      "source": [
        "# filtering Average Revenue per user related columns for interpreting the realtionship between them\n",
        "arpucols =df_outlier.columns[pd.Series(df_outlier.columns).str.contains('arpu')]\n",
        "arpucols =arpucols.tolist()\n",
        "arpucols.append('Churn')\n",
        "arpucols"
      ],
      "execution_count": 0,
      "outputs": []
    },
    {
      "cell_type": "code",
      "metadata": {
        "colab_type": "code",
        "id": "mmHBEqVtzmpY",
        "colab": {}
      },
      "source": [
        "plt.figure(figsize=(10, 10))\n",
        "sns.pairplot(df_outlier[arpucols])\n",
        "plt.show()"
      ],
      "execution_count": 0,
      "outputs": []
    },
    {
      "cell_type": "code",
      "metadata": {
        "colab_type": "code",
        "id": "8vhSYxfX1Zvr",
        "colab": {}
      },
      "source": [
        "#analysing the relationships between goodphase related features\n",
        "goodphasecols =df_outlier.columns[pd.Series(df_outlier.columns).str.contains('goodphase')]\n",
        "goodphasecols =goodphasecols.tolist()\n",
        "goodphasecols.append('Churn')\n",
        "goodphasecols"
      ],
      "execution_count": 0,
      "outputs": []
    },
    {
      "cell_type": "code",
      "metadata": {
        "colab_type": "code",
        "id": "yNpK4wOv3g_F",
        "colab": {}
      },
      "source": [
        "#plt.figure(figsize=(10, 10))\n",
        "#sns.pairplot(df_outlier[goodphasecols])\n",
        "#plt.show()"
      ],
      "execution_count": 0,
      "outputs": []
    },
    {
      "cell_type": "code",
      "metadata": {
        "colab_type": "code",
        "id": "LyejzTOr4VjX",
        "colab": {}
      },
      "source": [
        "#analysing the relationships between actiophase related features\n",
        "actionphase_columns =df_outlier.columns[pd.Series(df_outlier.columns).str.contains('_8')]\n",
        "actionphase_columns =actionphase_columns.tolist()\n",
        "actionphase_columns.append('Churn')\n",
        "actionphase_columns"
      ],
      "execution_count": 0,
      "outputs": []
    },
    {
      "cell_type": "code",
      "metadata": {
        "colab_type": "code",
        "id": "9w-Ay1tH4iQF",
        "colab": {}
      },
      "source": [
        "#plt.figure(figsize=(10, 10))\n",
        "#sns.pairplot(df_outlier[actionphase_columns])\n",
        "#plt.show()"
      ],
      "execution_count": 0,
      "outputs": []
    },
    {
      "cell_type": "code",
      "metadata": {
        "colab_type": "code",
        "id": "9YLWut50JmcM",
        "colab": {}
      },
      "source": [
        "#plotting Frequency of churn based on total recharge amount in goodphase in % wise\n",
        "figure = plt.figure(figsize= (16,8))\n",
        "ax=plt.subplot2grid((1,2),(0,0))\n",
        "\n",
        "freq_df = df_outlier.groupby(['Churn'])['tot_amt_rech_goodphase','total_rech_amt_withdata_8'].mean()\n",
        "#pct_df = freq_df.divide(freq_df.sum(axis=1), axis=0)\n",
        "ax =freq_df.plot(kind=\"bar\",ax = ax)\n",
        "plt.xlabel('Churn')\n",
        "plt.ylabel('total recharge amount')\n",
        "plt.title('Churn based on total recharge amount')\n",
        "#plt.gca().yaxis.set_major_formatter(PercentFormatter(1))\n",
        "plt.xticks(rotation=0)\n",
        "(y_bottom, y_top) = ax.get_ylim()\n",
        "y_height = y_top - y_bottom\n",
        "for bar in ax.patches:\n",
        "    height = bar.get_height()\n",
        "    label_position = height + (y_height * 0.01)\n",
        "    ax.text(bar.get_x() + bar.get_width()/2., label_position,round(height,2),ha='center', va='bottom')    \n",
        "\n",
        "\n",
        "#plotting Frequency of churn based on average recharge amount in goodphase in % wise\n",
        "figure = plt.figure(figsize= (16,8))\n",
        "ax=plt.subplot2grid((1,2),(0,1))\n",
        "\n",
        "freq_df = df_outlier.groupby(['Churn'])['av_amt_rech_goodphase'].sum()\n",
        "#pct_df = freq_df.divide(freq_df.sum(axis=1), axis=0)\n",
        "ax =freq_df.plot(kind=\"bar\",ax = ax)\n",
        "plt.xlabel('Churn')\n",
        "plt.ylabel('average recharge amount')\n",
        "plt.title('Churn based on average recharge amount in goodphase')\n",
        "#plt.gca().yaxis.set_major_formatter(PercentFormatter(1))\n",
        "plt.xticks(rotation=0)\n",
        "(y_bottom, y_top) = ax.get_ylim()\n",
        "y_height = y_top - y_bottom\n",
        "for bar in ax.patches:\n",
        "    height = bar.get_height()\n",
        "    label_position = height + (y_height * 0.01)\n",
        "    ax.text(bar.get_x() + bar.get_width()/2., label_position,round(height,2),ha='center', va='bottom')    \n"
      ],
      "execution_count": 0,
      "outputs": []
    },
    {
      "cell_type": "code",
      "metadata": {
        "id": "NePGhRKQpfT4",
        "colab_type": "code",
        "colab": {}
      },
      "source": [
        "#### Total recharge amount for calling and data package is more in good pahse compared to action phase."
      ],
      "execution_count": 0,
      "outputs": []
    },
    {
      "cell_type": "code",
      "metadata": {
        "colab_type": "code",
        "id": "fnWlm_gjC-hC",
        "colab": {}
      },
      "source": [
        "  #plotting Frequency of churn based on arpu in goodphase and activion phase \n",
        "figure = plt.figure(figsize= (16,8))\n",
        "ax=plt.subplot2grid((1,2),(0,0))\n",
        "\n",
        "freq_df = df_outlier.groupby(['Churn'])['arpu_goodphase','arpu_8'].mean()\n",
        "#pct_df = freq_df.divide(freq_df.sum(axis=1), axis=0)\n",
        "ax =freq_df.plot(kind=\"bar\",ax = ax)\n",
        "plt.xlabel('Churn')\n",
        "plt.ylabel('Average Revenue in goodphase')\n",
        "plt.title('Churn based on Average Revenue in goodphase and actionphase')\n",
        "#plt.gca().yaxis.set_major_formatter(PercentFormatter(1))\n",
        "plt.xticks(rotation=0)\n",
        "(y_bottom, y_top) = ax.get_ylim()\n",
        "y_height = y_top - y_bottom\n",
        "for bar in ax.patches:\n",
        "    height = bar.get_height()\n",
        "    label_position = height + (y_height * 0.01)\n",
        "    ax.text(bar.get_x() + bar.get_width()/2., label_position,round(height,2),ha='center', va='bottom')    \n",
        "\n",
        "    \n",
        "#plotting Frequency of churn based on Value based cost in goodphase in % wise\n",
        "figure = plt.figure(figsize= (16,8))\n",
        "ax=plt.subplot2grid((1,2),(0,1))\n",
        "freq_df = df_outlier.groupby(['Churn'])['Vbc_3g_goodphase','aug_vbc_3g'].mean()\n",
        "#pct_df = freq_df.divide(freq_df.sum(axis=1), axis=0)\n",
        "ax =freq_df.plot(kind=\"bar\",ax = ax)\n",
        "plt.xlabel('Churn')\n",
        "plt.ylabel('VolumebasedCost in goodphase')\n",
        "plt.title('Churn based on VolumebasedCost in goodphase and actionphase')\n",
        "#plt.gca().yaxis.set_major_formatter(PercentFormatter(1))\n",
        "plt.xticks(rotation=0)\n",
        "(y_bottom, y_top) = ax.get_ylim()\n",
        "y_height = y_top - y_bottom\n",
        "for bar in ax.patches:\n",
        "    height = bar.get_height()\n",
        "    label_position = height + (y_height * 0.01)\n",
        "    ax.text(bar.get_x() + bar.get_width()/2., label_position,round(height,2),ha='center', va='bottom')    "
      ],
      "execution_count": 0,
      "outputs": []
    },
    {
      "cell_type": "code",
      "metadata": {
        "id": "gjocJ2s9qbUR",
        "colab_type": "code",
        "colab": {}
      },
      "source": [
        "#### average revenue per user and volume based cost  are more in good pahse compared to action phase."
      ],
      "execution_count": 0,
      "outputs": []
    },
    {
      "cell_type": "code",
      "metadata": {
        "id": "GvsgwT8d5N3E",
        "colab_type": "code",
        "colab": {}
      },
      "source": [
        "#plotting Frequency of churn based on aon\n",
        "figure = plt.figure(figsize= (16,8))\n",
        "ax=plt.subplot2grid((1,2),(0,0))\n",
        "\n",
        "freq_df = df_outlier.groupby(['Churn'])['aon'].mean()\n",
        "#pct_df = freq_df.divide(freq_df.sum(axis=1), axis=0)\n",
        "ax =freq_df.plot(kind=\"bar\",ax = ax)\n",
        "plt.xlabel('Churn')\n",
        "plt.ylabel('Age on Network')\n",
        "plt.title('Churn based on aon')\n",
        "#plt.gca().yaxis.set_major_formatter(PercentFormatter(1))\n",
        "plt.xticks(rotation=0)\n",
        "(y_bottom, y_top) = ax.get_ylim()\n",
        "y_height = y_top - y_bottom\n",
        "for bar in ax.patches:\n",
        "    height = bar.get_height()\n",
        "    label_position = height + (y_height * 0.01)\n",
        "    ax.text(bar.get_x() + bar.get_width()/2., label_position,round(height,2),ha='center', va='bottom') "
      ],
      "execution_count": 0,
      "outputs": []
    },
    {
      "cell_type": "code",
      "metadata": {
        "id": "9ZRBaUUv6tzn",
        "colab_type": "code",
        "colab": {}
      },
      "source": [
        "#Plotting onnet_mou in action and good phase\n",
        "figure = plt.figure(figsize= (8,6))\n",
        "from matplotlib.ticker import PercentFormatter\n",
        "ax = sns.scatterplot(x=\"onnet_mou_goodphase\", y=\"onnet_mou_8\", hue=\"Churn\",  data=df_outlier)\n",
        "plt.xlabel('onnet_mou_goodphase')\n",
        "plt.ylabel('onnet_mou_8')\n",
        "plt.title('onnet_mou_goodphase and actionphase for churners')\n",
        "plt.xticks(rotation=0)\n",
        "\n",
        "\n"
      ],
      "execution_count": 0,
      "outputs": []
    },
    {
      "cell_type": "code",
      "metadata": {
        "id": "rtXqmLbv9mvj",
        "colab_type": "code",
        "colab": {}
      },
      "source": [
        "#Plotting offnet in goodphase and action phase\n",
        "figure = plt.figure(figsize= (8,6))\n",
        "from matplotlib.ticker import PercentFormatter\n",
        "ax = sns.scatterplot(x=\"offnet_mou_goodphase\", y=\"offnet_mou_8\", hue=\"Churn\",  data=df_outlier)\n",
        "plt.xlabel('offnet_mou_goodphase')\n",
        "plt.ylabel('offnet_mou_8')\n",
        "plt.title('offnet_mou_goodphase and actionphase for churners')\n",
        "plt.xticks(rotation=0)"
      ],
      "execution_count": 0,
      "outputs": []
    },
    {
      "cell_type": "code",
      "metadata": {
        "id": "0b0KemeQ_2PN",
        "colab_type": "code",
        "colab": {}
      },
      "source": [
        "#Plotting local outgoing in good and aciton phase for chruners\n",
        "figure = plt.figure(figsize= (8,6))\n",
        "from matplotlib.ticker import PercentFormatter\n",
        "ax = sns.scatterplot(x=\"loc_og_mou_8\", y=\"loc_og_mou_goodphase\", hue=\"Churn\",  data=df_outlier)\n",
        "plt.xlabel('local_og_mou_8')\n",
        "plt.ylabel('local_og_mou_goodphase')\n",
        "plt.title('local_og_mou in good and actionphase for churners')\n",
        "plt.xticks(rotation=0)"
      ],
      "execution_count": 0,
      "outputs": []
    },
    {
      "cell_type": "code",
      "metadata": {
        "id": "TUdX5ehV_3N_",
        "colab_type": "code",
        "colab": {}
      },
      "source": [
        "#Plotting frequency of Churn in percentage wise \n",
        "figure = plt.figure(figsize= (8,6))\n",
        "from matplotlib.ticker import PercentFormatter\n",
        "ax = sns.scatterplot(x=\"loc_ic_mou_8\", y=\"loc_ic_mou_goodphase\", hue=\"Churn\",  data=df_outlier)\n",
        "plt.xlabel('offnet_mou_goodphase')\n",
        "plt.ylabel('offnet_mou_8')\n",
        "plt.title('offnet_mou_goodphase and actionphase for churners')\n",
        "plt.xticks(rotation=0)"
      ],
      "execution_count": 0,
      "outputs": []
    },
    {
      "cell_type": "code",
      "metadata": {
        "colab_type": "code",
        "id": "8lIJ-YqEz3go",
        "colab": {}
      },
      "source": [
        "## Preparing  the dataset for modeling"
      ],
      "execution_count": 0,
      "outputs": []
    },
    {
      "cell_type": "code",
      "metadata": {
        "colab_type": "code",
        "id": "eaJnoP_rLzEa",
        "colab": {}
      },
      "source": [
        "df_preprocessed = df_outlier.copy()"
      ],
      "execution_count": 0,
      "outputs": []
    },
    {
      "cell_type": "code",
      "metadata": {
        "colab_type": "code",
        "id": "5IWnQIDvd5fA",
        "colab": {}
      },
      "source": [
        "numerical =[f for f in df_preprocessed.columns if df_preprocessed.dtypes[f] != 'object']"
      ],
      "execution_count": 0,
      "outputs": []
    },
    {
      "cell_type": "code",
      "metadata": {
        "colab_type": "code",
        "id": "F3t-K7r8J4PP",
        "colab": {}
      },
      "source": [
        "numerical = df_preprocessed.drop('Churn',axis=1).columns\n",
        "\n",
        "df_preprocessed.groupby(['Churn'])[numerical].agg([np.mean, np.std, np.min, np.max])"
      ],
      "execution_count": 0,
      "outputs": []
    },
    {
      "cell_type": "code",
      "metadata": {
        "id": "UiVDjgMbrxMG",
        "colab_type": "code",
        "colab": {}
      },
      "source": [
        "#### Table shows the relation between all the features  with chuners and non churners"
      ],
      "execution_count": 0,
      "outputs": []
    },
    {
      "cell_type": "code",
      "metadata": {
        "colab_type": "code",
        "id": "TQibF0xeNX64",
        "colab": {}
      },
      "source": [
        "\n",
        "numerical_features= [f for f in df_preprocessed.columns if (df_preprocessed.dtypes[f]!='object')]\n",
        "numerical_features.remove('Churn')"
      ],
      "execution_count": 0,
      "outputs": []
    },
    {
      "cell_type": "code",
      "metadata": {
        "colab_type": "code",
        "id": "vCl3fBT3mBei",
        "colab": {}
      },
      "source": [
        "X = df_preprocessed.drop(['Churn'],axis =1)\n",
        "y = df_preprocessed['Churn']"
      ],
      "execution_count": 0,
      "outputs": []
    },
    {
      "cell_type": "code",
      "metadata": {
        "colab_type": "code",
        "id": "mRQ77-uhv8wt",
        "colab": {}
      },
      "source": [
        "X.shape"
      ],
      "execution_count": 0,
      "outputs": []
    },
    {
      "cell_type": "code",
      "metadata": {
        "colab_type": "code",
        "id": "q1a8D-fhwBOI",
        "scrolled": true,
        "colab": {}
      },
      "source": [
        "y.shape"
      ],
      "execution_count": 0,
      "outputs": []
    },
    {
      "cell_type": "markdown",
      "metadata": {
        "id": "gxiwVEkShCI3",
        "colab_type": "text"
      },
      "source": [
        "##### train test spliting"
      ]
    },
    {
      "cell_type": "code",
      "metadata": {
        "colab_type": "code",
        "id": "-kyiVTNhQYUE",
        "colab": {}
      },
      "source": [
        "#train, test split\n",
        "X_train, X_test, y_train, y_test = train_test_split(X, y, test_size=0.25, random_state=42)"
      ],
      "execution_count": 0,
      "outputs": []
    },
    {
      "cell_type": "code",
      "metadata": {
        "colab_type": "code",
        "id": "NkeNBBm38Gf5",
        "scrolled": true,
        "colab": {}
      },
      "source": [
        "#scaling the features\n",
        "scaler = StandardScaler()\n",
        "\n",
        "X_train[numerical_features] = scaler.fit_transform(X_train[numerical_features])\n",
        "X_test[numerical_features]= scaler.transform(X_test[numerical_features])"
      ],
      "execution_count": 0,
      "outputs": []
    },
    {
      "cell_type": "markdown",
      "metadata": {
        "id": "iddshNbVhCI6",
        "colab_type": "text"
      },
      "source": [
        "#### Sampling  "
      ]
    },
    {
      "cell_type": "code",
      "metadata": {
        "colab_type": "code",
        "id": "2T9aJx9cCWX_",
        "colab": {}
      },
      "source": [
        "#sampling with SMOTE upsampling\n",
        "Smotesampling=SMOTE(random_state=0)\n",
        "oversampler_X,oversampler_y=Smotesampling.fit_sample(X_train,y_train)"
      ],
      "execution_count": 0,
      "outputs": []
    },
    {
      "cell_type": "code",
      "metadata": {
        "colab_type": "code",
        "id": "AD5ZsLnTC-oX",
        "colab": {}
      },
      "source": [
        "len(oversampler_y)"
      ],
      "execution_count": 0,
      "outputs": []
    },
    {
      "cell_type": "code",
      "metadata": {
        "colab_type": "code",
        "id": "ru-e-ARfCxZf",
        "colab": {}
      },
      "source": [
        "print(len(oversampler_y[oversampler_y==0]))\n",
        "print(len(oversampler_y[oversampler_y==1]))"
      ],
      "execution_count": 0,
      "outputs": []
    },
    {
      "cell_type": "markdown",
      "metadata": {
        "id": "9P5ZlTOihCJR",
        "colab_type": "text"
      },
      "source": [
        "#### SMOTE gives balanced data for both classes"
      ]
    },
    {
      "cell_type": "code",
      "metadata": {
        "colab_type": "code",
        "id": "wLX6KV0BDSR0",
        "colab": {}
      },
      "source": [
        "##### Model 1 for finding Churning customers"
      ],
      "execution_count": 0,
      "outputs": []
    },
    {
      "cell_type": "code",
      "metadata": {
        "colab_type": "code",
        "id": "bBGDUkoB99GC",
        "colab": {}
      },
      "source": [
        "# PCA for finding variance of the featues effectively.\n",
        "pca = PCA()\n",
        "pca.fit(oversampler_X)\n",
        "fig = plt.figure(figsize = (8,4))\n",
        "plt.plot(np.cumsum(pca.explained_variance_ratio_))\n",
        "plt.xlabel('number of components')\n",
        "plt.ylabel('cumulative explained variance')\n",
        "\n",
        "plt.title('Scree Plot')\n",
        "plt.show()"
      ],
      "execution_count": 0,
      "outputs": []
    },
    {
      "cell_type": "code",
      "metadata": {
        "colab_type": "code",
        "id": "VOvrul-G_6Da",
        "colab": {}
      },
      "source": [
        "#from sklearn.decomposition import PCA\n",
        "# using PCA with 95% variance of the featurers the model is trained.\n",
        "pca = PCA(.95) \n",
        "pca.fit(oversampler_X)\n",
        "\n",
        "x_train_pca = pca.fit_transform(oversampler_X)\n",
        "\n",
        "test_pca        = pca.transform(X_test)"
      ],
      "execution_count": 0,
      "outputs": []
    },
    {
      "cell_type": "code",
      "metadata": {
        "colab_type": "code",
        "id": "6po7k807DmFy",
        "colab": {}
      },
      "source": [
        "\n",
        "#create object for different models  Linear Regression, Random Forest, Decision Tree, SVM\n",
        "\n",
        "RF = RandomForestClassifier(n_estimators=20)\n",
        "LR = LogisticRegression()\n",
        "tree= DecisionTreeClassifier()\n",
        "svmmodel = SVC(kernel='linear')"
      ],
      "execution_count": 0,
      "outputs": []
    },
    {
      "cell_type": "code",
      "metadata": {
        "colab_type": "code",
        "id": "5ebFWyE1JYT5",
        "colab": {}
      },
      "source": [
        "# function for showing metrics for each model\n",
        "def predictedscore(modelname,actual,predicted):\n",
        "    print(\"Model is\", modelname)\n",
        "    accuracy = accuracy_score(predicted, actual) * 100\n",
        "    print(\"Accuracy: {0:.2f}%\".format(accuracy))\n",
        "  \n",
        "    cm=confusion_matrix(actual,predicted)\n",
        "    print(cm)\n",
        "  \n",
        "    print(classification_report(actual,predicted))\n",
        "  \n",
        "    TP = cm[1,1] # true positive \n",
        "    TN = cm[0,0] # true negatives\n",
        "    FP = cm[0,1] # false positives\n",
        "    FN = cm[1,0] # false negatives\n",
        "    print('sensitivity',TP / float(TP+FN))\n",
        "    print('specificity',TN / float(TN+FP))\n",
        "    print('AUC Score',roc_auc_score(actual, predicted))\n",
        "    \n",
        "    fpr, tpr, thresholds = metrics.roc_curve( actual, predicted,\n",
        "                                              drop_intermediate = False )\n",
        "    auc_score = metrics.roc_auc_score( actual, predicted )\n",
        "    plt.figure(figsize=(5, 5))\n",
        "    plt.plot( fpr, tpr, label='ROC curve (area = %0.2f)' % auc_score )\n",
        "    plt.plot([0, 1], [0, 1], 'k--')\n",
        "    plt.xlim([0.0, 1.0])\n",
        "    plt.ylim([0.0, 1.05])\n",
        "    plt.xlabel('False Positive Rate or [1 - True Negative Rate]')\n",
        "    plt.ylabel('True Positive Rate')\n",
        "    plt.title('Receiver operating characteristic example')\n",
        "    plt.legend(loc=\"lower right\")\n",
        "    plt.show()"
      ],
      "execution_count": 0,
      "outputs": []
    },
    {
      "cell_type": "code",
      "metadata": {
        "colab_type": "code",
        "id": "Ed9Ip6FG01gi",
        "colab": {}
      },
      "source": [
        "#function for building a model\n",
        "def modelbuilding(modelname,modelobject):\n",
        "  #pipe = Pipeline(steps=[('pca', pca), (modelname, modelobject)])\n",
        "    modelobject.fit(x_train_pca,oversampler_y)\n",
        "    test_predictions = modelobject.predict(test_pca)\n",
        "    predictedscore(modelname,y_test,test_predictions)"
      ],
      "execution_count": 0,
      "outputs": []
    },
    {
      "cell_type": "markdown",
      "metadata": {
        "id": "uUnijealhCJn",
        "colab_type": "text"
      },
      "source": [
        "#### Logistics Regression"
      ]
    },
    {
      "cell_type": "code",
      "metadata": {
        "id": "E7_E6COihCJo",
        "colab_type": "code",
        "colab": {}
      },
      "source": [
        "modelbuilding('Logistics Regression',LR)\n",
        "#LR.fit(x_train_pca,oversampler_y)\n",
        "#test_predictions = LR.predict(test_pca)\n",
        "#predictedscore(\"Logistics Regression\",y_test,test_predictions)"
      ],
      "execution_count": 0,
      "outputs": []
    },
    {
      "cell_type": "markdown",
      "metadata": {
        "id": "YZtz8eLmhCJr",
        "colab_type": "text"
      },
      "source": [
        "#### SVM"
      ]
    },
    {
      "cell_type": "code",
      "metadata": {
        "colab_type": "code",
        "id": "BJbeBRYDEqYl",
        "scrolled": true,
        "colab": {}
      },
      "source": [
        "modelbuilding('SVM',svmmodel)\n",
        "#svmmodel.fit(x_train_pca,oversampler_y)\n",
        "#test_predictions = svmmodel.predict(test_pca)\n",
        "#predictedscore(\"SVM\",y_test,test_predictions)"
      ],
      "execution_count": 0,
      "outputs": []
    },
    {
      "cell_type": "markdown",
      "metadata": {
        "id": "puqsWrFxhCJv",
        "colab_type": "text"
      },
      "source": [
        "#### Decision Tree"
      ]
    },
    {
      "cell_type": "code",
      "metadata": {
        "colab_type": "code",
        "id": "-UnhvHA_GAId",
        "scrolled": true,
        "colab": {}
      },
      "source": [
        "modelbuilding('DecisionTree',tree)\n",
        "#tree.fit(x_train_pca,oversampler_y)\n",
        "#test_predictions = tree.predict(test_pca)\n",
        "#predictedscore(\"DecisionTree\",y_test,test_predictions)"
      ],
      "execution_count": 0,
      "outputs": []
    },
    {
      "cell_type": "markdown",
      "metadata": {
        "id": "-kD3KxnnhCJz",
        "colab_type": "text"
      },
      "source": [
        "##### Random Forest"
      ]
    },
    {
      "cell_type": "code",
      "metadata": {
        "colab_type": "code",
        "id": "9-tcMuYxGFn7",
        "colab": {}
      },
      "source": [
        "modelbuilding('Random Forest',RF)\n",
        "#RF.fit(x_train_pca,oversampler_y)\n",
        "#test_predictions = RF.predict(test_pca)\n",
        "#predictedscore(\"Random Forest\",y_test,test_predictions)"
      ],
      "execution_count": 0,
      "outputs": []
    },
    {
      "cell_type": "code",
      "metadata": {
        "colab_type": "code",
        "id": "LHaz_3ou0_VM",
        "colab": {}
      },
      "source": [
        "#### accuracy and sensitivity of Logistic Regression and SVM model are high compare to Decision Tree, Random Forest. But still, the model sensitivity can be improved by tuning hyper parameter. Sensitivity is an important metrics as per the business logic, is more important to identify churners than the non-churners accurately "
      ],
      "execution_count": 0,
      "outputs": []
    },
    {
      "cell_type": "markdown",
      "metadata": {
        "id": "sh59e-MxhCJ7",
        "colab_type": "text"
      },
      "source": [
        "#### Hyperparameters tuning"
      ]
    },
    {
      "cell_type": "code",
      "metadata": {
        "id": "2074F9V4CVLB",
        "colab_type": "code",
        "colab": {}
      },
      "source": [
        "# Logistic Regression gridsearchCV with different C value"
      ],
      "execution_count": 0,
      "outputs": []
    },
    {
      "cell_type": "code",
      "metadata": {
        "colab_type": "code",
        "id": "O8cB5CKAapHs",
        "colab": {}
      },
      "source": [
        "# Set of parameters we want to try for out Model\n",
        "#parameters = {'C': [1, 10, 100, 1000]}\n",
        "parameters = {'C': [0.001, 0.01, 0.1, 1, 10] \n",
        "              \n",
        "                   }\n",
        "model = LogisticRegression()\n",
        "#Running the Model with above chosen parameter\n",
        "grid_search = GridSearchCV(estimator = model, \n",
        "                           param_grid = parameters , \n",
        "                           scoring = 'accuracy', \n",
        "                           cv = 5, \n",
        "                           n_jobs = -1 , \n",
        "                           return_train_score=True,\n",
        "                           verbose = 1)\n",
        "grid_search.fit(x_train_pca,oversampler_y)\n",
        "print(grid_search.best_score_)\n",
        "print(grid_search.best_params_)"
      ],
      "execution_count": 0,
      "outputs": []
    },
    {
      "cell_type": "code",
      "metadata": {
        "id": "39D0fwroCjfo",
        "colab_type": "code",
        "colab": {}
      },
      "source": [
        "# Logistic Regression with best_params C =1"
      ],
      "execution_count": 0,
      "outputs": []
    },
    {
      "cell_type": "code",
      "metadata": {
        "colab_type": "code",
        "id": "zSeSvTEzbrNZ",
        "colab": {}
      },
      "source": [
        "# model with optimal hyperparameters\n",
        "#LR = LogisticRegression(C=1)\n",
        "LR = LogisticRegression(C=1)\n",
        "modelbuilding('Logistic Regression',LR)"
      ],
      "execution_count": 0,
      "outputs": []
    },
    {
      "cell_type": "code",
      "metadata": {
        "id": "MKvvjBR1DKPP",
        "colab_type": "code",
        "colab": {}
      },
      "source": [
        "# Decision Tree with gridsearchCV for differnt max_depth, min_samples_leaf, min_samples_split,\n",
        "# criterion "
      ],
      "execution_count": 0,
      "outputs": []
    },
    {
      "cell_type": "code",
      "metadata": {
        "id": "6-XzglpUTleh",
        "colab_type": "code",
        "colab": {}
      },
      "source": [
        "# Create the parameter grid \n",
        "param_grid = {\n",
        "    'max_depth': range(5, 15, 5),\n",
        "    'min_samples_leaf': range(50, 150, 50),\n",
        "    'min_samples_split': range(50, 150, 50),\n",
        "    'criterion': [\"entropy\", \"gini\"]\n",
        "}\n",
        "\n",
        "n_folds = 5\n",
        "\n",
        "# Instantiate the grid search model\n",
        "dtree = DecisionTreeClassifier()\n",
        "grid_search = GridSearchCV(estimator = dtree, param_grid = param_grid, \n",
        "                          cv = n_folds, verbose = 1)\n",
        "\n",
        "# Fit the grid search to the data\n",
        "grid_search.fit(x_train_pca,oversampler_y)\n",
        "# printing the optimal accuracy score and hyperparameters\n",
        "print(\"best accuracy\", grid_search.best_score_)\n",
        "print(grid_search.best_estimator_)"
      ],
      "execution_count": 0,
      "outputs": []
    },
    {
      "cell_type": "code",
      "metadata": {
        "id": "F5DYabNMTxPr",
        "colab_type": "code",
        "colab": {}
      },
      "source": [
        "# model with optimal hyperparameters\n",
        "tree = DecisionTreeClassifier(criterion = \"entropy\", \n",
        "                                  random_state = 100,\n",
        "                                  max_depth=10, \n",
        "                                  min_samples_leaf=50,\n",
        "                                  min_samples_split=100)\n",
        "modelbuilding('DecisionTree',tree)"
      ],
      "execution_count": 0,
      "outputs": []
    },
    {
      "cell_type": "markdown",
      "metadata": {
        "id": "tCP77NMyhCKS",
        "colab_type": "text"
      },
      "source": [
        "#### sensitivity and AUC score is improved  from 50%(sensitivity) and 69% (AUC score) to 73% (sensitivity) and 79% (AUC score) after tuning hyperparameter in Decision tree classifier model"
      ]
    },
    {
      "cell_type": "code",
      "metadata": {
        "id": "375QlL9ZDu9r",
        "colab_type": "code",
        "colab": {}
      },
      "source": [
        "# RandomForestClassifier with gridsearchCV for differnt max_depth, min_samples_leaf, min_samples_split,\n",
        "# n_estimators, max_features "
      ],
      "execution_count": 0,
      "outputs": []
    },
    {
      "cell_type": "code",
      "metadata": {
        "id": "8N8d1yccT34J",
        "colab_type": "code",
        "colab": {}
      },
      "source": [
        "# Create the parameter grid based on the results of random search \n",
        "param_grid = {\n",
        "    'max_depth': [4,8,10]\n",
        "    \n",
        "}\n",
        "\n",
        "# Create a based model\n",
        "rf = RandomForestClassifier()\n",
        "# Instantiate the grid search model\n",
        "grid_search = GridSearchCV(estimator = rf, param_grid = param_grid, \n",
        "                          cv = 3, n_jobs = -1,verbose = 1)\n",
        "\n",
        "grid_search.fit(x_train_pca,oversampler_y)\n",
        "# printing the optimal accuracy score and hyperparameters\n",
        "print('We can get accuracy of',grid_search.best_score_,'using',grid_search.best_params_)"
      ],
      "execution_count": 0,
      "outputs": []
    },
    {
      "cell_type": "code",
      "metadata": {
        "id": "E_9ixDRKT-ew",
        "colab_type": "code",
        "colab": {}
      },
      "source": [
        "#'min_samples_leaf': range(100, 400, 200),\n",
        "\n",
        "# Create the parameter grid based on the results of random search \n",
        "param_grid = {\n",
        "    'min_samples_leaf': range(100, 400, 200)\n",
        "    \n",
        "}\n",
        "\n",
        "# Create a based model\n",
        "rf = RandomForestClassifier()\n",
        "# Instantiate the grid search model\n",
        "grid_search = GridSearchCV(estimator = rf, param_grid = param_grid, \n",
        "                          cv = 3, n_jobs = -1,verbose = 1)\n",
        "\n",
        "grid_search.fit(x_train_pca,oversampler_y)\n",
        "# printing the optimal accuracy score and hyperparameters\n",
        "print('We can get accuracy of',grid_search.best_score_,'using',grid_search.best_params_)"
      ],
      "execution_count": 0,
      "outputs": []
    },
    {
      "cell_type": "code",
      "metadata": {
        "id": "AJSJUkiWULUg",
        "colab_type": "code",
        "colab": {}
      },
      "source": [
        "#    'min_samples_split': range(200, 500, 200),\n",
        "\n",
        "# Create the parameter grid based on the results of random search \n",
        "param_grid = {\n",
        "    'min_samples_split': range(200, 500, 200)\n",
        "    \n",
        "}\n",
        "\n",
        "# Create a based model\n",
        "rf = RandomForestClassifier()\n",
        "# Instantiate the grid search model\n",
        "grid_search = GridSearchCV(estimator = rf, param_grid = param_grid, \n",
        "                          cv = 3, n_jobs = -1,verbose = 1)\n",
        "\n",
        "grid_search.fit(x_train_pca,oversampler_y)\n",
        "# printing the optimal accuracy score and hyperparameters\n",
        "print('We can get accuracy of',grid_search.best_score_,'using',grid_search.best_params_)"
      ],
      "execution_count": 0,
      "outputs": []
    },
    {
      "cell_type": "code",
      "metadata": {
        "id": "J9juTFWFUS_f",
        "colab_type": "code",
        "colab": {}
      },
      "source": [
        "\n",
        "# Create the parameter grid based on the results of random search \n",
        "param_grid = {\n",
        "   'n_estimators': [100,200, 300]\n",
        "    \n",
        "}\n",
        "\n",
        "# Create a based model\n",
        "rf = RandomForestClassifier()\n",
        "# Instantiate the grid search model\n",
        "grid_search = GridSearchCV(estimator = rf, param_grid = param_grid, \n",
        "                          cv = 3, n_jobs = -1,verbose = 1)\n",
        "\n",
        "grid_search.fit(x_train_pca,oversampler_y)\n",
        "# printing the optimal accuracy score and hyperparameters\n",
        "print('We can get accuracy of',grid_search.best_score_,'using',grid_search.best_params_)"
      ],
      "execution_count": 0,
      "outputs": []
    },
    {
      "cell_type": "code",
      "metadata": {
        "id": "jtVrjrK9UYjf",
        "colab_type": "code",
        "colab": {}
      },
      "source": [
        "        \n",
        "\n",
        "# Create the parameter grid based on the results of random search \n",
        "param_grid = {\n",
        "   'max_features': [5, 10]\n",
        "    \n",
        "}\n",
        "\n",
        "# Create a based model\n",
        "rf = RandomForestClassifier()\n",
        "# Instantiate the grid search model\n",
        "grid_search = GridSearchCV(estimator = rf, param_grid = param_grid, \n",
        "                          cv = 3, n_jobs = -1,verbose = 1)\n",
        "\n",
        "grid_search.fit(x_train_pca,oversampler_y)\n",
        "# printing the optimal accuracy score and hyperparameters\n",
        "print('We can get accuracy of',grid_search.best_score_,'using',grid_search.best_params_)"
      ],
      "execution_count": 0,
      "outputs": []
    },
    {
      "cell_type": "code",
      "metadata": {
        "id": "jtXqsSa1EFdR",
        "colab_type": "code",
        "colab": {}
      },
      "source": [
        "# Random Forest with best parameters"
      ],
      "execution_count": 0,
      "outputs": []
    },
    {
      "cell_type": "code",
      "metadata": {
        "id": "Q2mgJoAfUdh3",
        "colab_type": "code",
        "colab": {}
      },
      "source": [
        "RF = RandomForestClassifier(bootstrap=True,\n",
        "                             max_depth=10,\n",
        "                             min_samples_leaf=100, \n",
        "                             min_samples_split=200,\n",
        "                             max_features=10,\n",
        "                             n_estimators=100)\n",
        "modelbuilding('Random Forest',RF)"
      ],
      "execution_count": 0,
      "outputs": []
    },
    {
      "cell_type": "code",
      "metadata": {
        "id": "Ij58uIrxBtUm",
        "colab_type": "code",
        "colab": {}
      },
      "source": [
        "#### Logistics Regression  gives good accuracy and senstivitiy.. \n",
        "# Decision tree and Random forest gives good accuracy #but senstivity is less compared to LR.\n",
        "# Logistic Regression is more suitable for the given problem statement"
      ],
      "execution_count": 0,
      "outputs": []
    },
    {
      "cell_type": "code",
      "metadata": {
        "id": "n0i7-EUW6vMS",
        "colab_type": "code",
        "colab": {}
      },
      "source": [
        "#### Model 2 to find driving factors"
      ],
      "execution_count": 0,
      "outputs": []
    },
    {
      "cell_type": "code",
      "metadata": {
        "id": "f42E9UWLUhYW",
        "colab_type": "code",
        "colab": {}
      },
      "source": [
        "# Logistic regression model\n",
        "import statsmodels.api as sm\n",
        "logm1 = sm.GLM(oversampler_y,(sm.add_constant(oversampler_X)), family = sm.families.Binomial())\n",
        "logm1.fit().summary()"
      ],
      "execution_count": 0,
      "outputs": []
    },
    {
      "cell_type": "code",
      "metadata": {
        "id": "8xP0tc1dUsnr",
        "colab_type": "code",
        "colab": {}
      },
      "source": [
        "logreg = LogisticRegression()\n",
        "from sklearn.feature_selection import RFE\n",
        "rfe = RFE(logreg, 35)             # running RFE with 35 variables as output\n",
        "rfe = rfe.fit(oversampler_X, oversampler_y)\n",
        "list(zip(X_train.columns, rfe.support_, rfe.ranking_))"
      ],
      "execution_count": 0,
      "outputs": []
    },
    {
      "cell_type": "code",
      "metadata": {
        "id": "eQo9ADcgUwCj",
        "colab_type": "code",
        "colab": {}
      },
      "source": [
        "col = X_train.columns[rfe.support_]\n",
        "X_train.columns[~rfe.support_]"
      ],
      "execution_count": 0,
      "outputs": []
    },
    {
      "cell_type": "code",
      "metadata": {
        "id": "rFqe6Oj2U1FR",
        "colab_type": "code",
        "colab": {}
      },
      "source": [
        "import statsmodels.api as sm\n",
        "X_train_sm = sm.add_constant(X_train[col])\n",
        "logm2 = sm.GLM(y_train,X_train_sm, family = sm.families.Binomial())\n",
        "res = logm2.fit()\n",
        "res.summary()"
      ],
      "execution_count": 0,
      "outputs": []
    },
    {
      "cell_type": "code",
      "metadata": {
        "id": "w-55IXcr-9k1",
        "colab_type": "code",
        "colab": {}
      },
      "source": [
        "### checking P value, VIF to  remove insiginificant features.  This step is repeated \n",
        "## until finding all significant features."
      ],
      "execution_count": 0,
      "outputs": []
    },
    {
      "cell_type": "code",
      "metadata": {
        "id": "TEUmlP3X1Snj",
        "colab_type": "code",
        "colab": {}
      },
      "source": [
        "col = col.drop('std_og_t2t_mou_8', 1)"
      ],
      "execution_count": 0,
      "outputs": []
    },
    {
      "cell_type": "code",
      "metadata": {
        "id": "LwpaEJX31XPe",
        "colab_type": "code",
        "colab": {}
      },
      "source": [
        "# Let's re-run the model using the selected variables\n",
        "X_train_sm = sm.add_constant(X_train[col])\n",
        "logm3 = sm.GLM(y_train,X_train_sm, family = sm.families.Binomial())\n",
        "res = logm3.fit()\n",
        "res.summary()"
      ],
      "execution_count": 0,
      "outputs": []
    },
    {
      "cell_type": "code",
      "metadata": {
        "id": "BOyBoyJm1j0O",
        "colab_type": "code",
        "colab": {}
      },
      "source": [
        "col = col.drop('onnet_mou_8', 1)"
      ],
      "execution_count": 0,
      "outputs": []
    },
    {
      "cell_type": "code",
      "metadata": {
        "id": "XOX7vHYi1ds3",
        "colab_type": "code",
        "colab": {}
      },
      "source": [
        "# Let's re-run the model using the selected variables\n",
        "X_train_sm = sm.add_constant(X_train[col])\n",
        "logm4 = sm.GLM(y_train,X_train_sm, family = sm.families.Binomial())\n",
        "res = logm4.fit()\n",
        "res.summary()"
      ],
      "execution_count": 0,
      "outputs": []
    },
    {
      "cell_type": "code",
      "metadata": {
        "id": "o4CetUQQ1_xZ",
        "colab_type": "code",
        "colab": {}
      },
      "source": [
        "col = col.drop('av_rech_amt_data_8', 1)\n",
        "# Let's re-run the model using the selected variables\n",
        "X_train_sm = sm.add_constant(X_train[col])\n",
        "logm5 = sm.GLM(y_train,X_train_sm, family = sm.families.Binomial())\n",
        "res = logm5.fit()\n",
        "res.summary()"
      ],
      "execution_count": 0,
      "outputs": []
    },
    {
      "cell_type": "code",
      "metadata": {
        "id": "3H_FlTt02FmU",
        "colab_type": "code",
        "colab": {}
      },
      "source": [
        "col = col.drop('loc_ic_t2m_mou_8', 1)\n",
        "# Let's re-run the model using the selected variables\n",
        "X_train_sm = sm.add_constant(X_train[col])\n",
        "logm6 = sm.GLM(y_train,X_train_sm, family = sm.families.Binomial())\n",
        "res = logm6.fit()\n",
        "res.summary()"
      ],
      "execution_count": 0,
      "outputs": []
    },
    {
      "cell_type": "code",
      "metadata": {
        "id": "1NB8HjJm2Noy",
        "colab_type": "code",
        "colab": {}
      },
      "source": [
        "col = col.drop('loc_ic_t2f_mou_goodphase', 1)\n",
        "# Let's re-run the model using the selected variables\n",
        "X_train_sm = sm.add_constant(X_train[col])\n",
        "logm7 = sm.GLM(y_train,X_train_sm, family = sm.families.Binomial())\n",
        "res = logm7.fit()\n",
        "res.summary()"
      ],
      "execution_count": 0,
      "outputs": []
    },
    {
      "cell_type": "code",
      "metadata": {
        "id": "mX124kRM3afj",
        "colab_type": "code",
        "colab": {}
      },
      "source": [
        "# Check for the VIF values of the feature variables. \n",
        "from statsmodels.stats.outliers_influence import variance_inflation_factor\n",
        "vif = pd.DataFrame()\n",
        "vif['Features'] = X_train[col].columns\n",
        "vif['VIF'] = [variance_inflation_factor(X_train[col].values, i) for i in range(X_train[col].shape[1])]\n",
        "vif['VIF'] = round(vif['VIF'], 2)\n",
        "vif = vif.sort_values(by = \"VIF\", ascending = False)\n",
        "vif"
      ],
      "execution_count": 0,
      "outputs": []
    },
    {
      "cell_type": "code",
      "metadata": {
        "id": "sXa6nIFe3fEp",
        "colab_type": "code",
        "colab": {}
      },
      "source": [
        "col = col.drop('loc_og_mou_8', 1)\n",
        "# Let's re-run the model using the selected variables\n",
        "X_train_sm = sm.add_constant(X_train[col])\n",
        "logm14 = sm.GLM(y_train,X_train_sm, family = sm.families.Binomial())\n",
        "res = logm14.fit()\n",
        "res.summary()"
      ],
      "execution_count": 0,
      "outputs": []
    },
    {
      "cell_type": "code",
      "metadata": {
        "id": "vli9c78n3lxM",
        "colab_type": "code",
        "colab": {}
      },
      "source": [
        "col = col.drop('loc_og_t2t_mou_8', 1)\n",
        "# Let's re-run the model using the selected variables\n",
        "X_train_sm = sm.add_constant(X_train[col])\n",
        "logm15 = sm.GLM(y_train,X_train_sm, family = sm.families.Binomial())\n",
        "res = logm15.fit()\n",
        "res.summary()\n"
      ],
      "execution_count": 0,
      "outputs": []
    },
    {
      "cell_type": "code",
      "metadata": {
        "id": "CfZm7IeIH6mY",
        "colab_type": "code",
        "colab": {}
      },
      "source": [
        "col = col.drop('std_og_t2m_mou_goodphase', 1)\n",
        "# Let's re-run the model using the selected variables\n",
        "X_train_sm = sm.add_constant(X_train[col])\n",
        "logm15 = sm.GLM(y_train,X_train_sm, family = sm.families.Binomial())\n",
        "res = logm15.fit()\n",
        "res.summary()"
      ],
      "execution_count": 0,
      "outputs": []
    },
    {
      "cell_type": "code",
      "metadata": {
        "id": "sw5OCydRIFLZ",
        "colab_type": "code",
        "colab": {}
      },
      "source": [
        "col = col.drop('offnet_mou_goodphase', 1)\n",
        "# Let's re-run the model using the selected variables\n",
        "X_train_sm = sm.add_constant(X_train[col])\n",
        "logm15 = sm.GLM(y_train,X_train_sm, family = sm.families.Binomial())\n",
        "res = logm15.fit()\n",
        "res.summary()"
      ],
      "execution_count": 0,
      "outputs": []
    },
    {
      "cell_type": "code",
      "metadata": {
        "id": "7ggrSHkX3qma",
        "colab_type": "code",
        "colab": {}
      },
      "source": [
        "# Check for the VIF values of the feature variables. \n",
        "from statsmodels.stats.outliers_influence import variance_inflation_factor\n",
        "vif = pd.DataFrame()\n",
        "vif['Features'] = X_train[col].columns\n",
        "vif['VIF'] = [variance_inflation_factor(X_train[col].values, i) for i in range(X_train[col].shape[1])]\n",
        "vif['VIF'] = round(vif['VIF'], 2)\n",
        "vif = vif.sort_values(by = \"VIF\", ascending = False)\n",
        "vif"
      ],
      "execution_count": 0,
      "outputs": []
    },
    {
      "cell_type": "code",
      "metadata": {
        "id": "ilZR65UI3uor",
        "colab_type": "code",
        "colab": {}
      },
      "source": [
        "col = col.drop('total_rech_amt_8', 1)\n",
        "# Let's re-run the model using the selected variables\n",
        "X_train_sm = sm.add_constant(X_train[col])\n",
        "logm16 = sm.GLM(y_train,X_train_sm, family = sm.families.Binomial())\n",
        "res = logm16.fit()\n",
        "res.summary()"
      ],
      "execution_count": 0,
      "outputs": []
    },
    {
      "cell_type": "code",
      "metadata": {
        "id": "77ClWzI5IcBx",
        "colab_type": "code",
        "colab": {}
      },
      "source": [
        "col = col.drop('total_rech_amt_withdata_8', 1)\n",
        "# Let's re-run the model using the selected variables\n",
        "X_train_sm = sm.add_constant(X_train[col])\n",
        "logm16 = sm.GLM(y_train,X_train_sm, family = sm.families.Binomial())\n",
        "res = logm16.fit()\n",
        "res.summary()"
      ],
      "execution_count": 0,
      "outputs": []
    },
    {
      "cell_type": "code",
      "metadata": {
        "id": "RhdcVhDR32Ga",
        "colab_type": "code",
        "colab": {}
      },
      "source": [
        "# Check for the VIF values of the feature variables. \n",
        "from statsmodels.stats.outliers_influence import variance_inflation_factor\n",
        "vif = pd.DataFrame()\n",
        "vif['Features'] = X_train[col].columns\n",
        "vif['VIF'] = [variance_inflation_factor(X_train[col].values, i) for i in range(X_train[col].shape[1])]\n",
        "vif['VIF'] = round(vif['VIF'], 2)\n",
        "vif = vif.sort_values(by = \"VIF\", ascending = False)\n",
        "vif"
      ],
      "execution_count": 0,
      "outputs": []
    },
    {
      "cell_type": "code",
      "metadata": {
        "id": "tN-8dOMD36jC",
        "colab_type": "code",
        "colab": {}
      },
      "source": [
        "col = col.drop('count_rech_2g_8', 1)\n",
        "# Let's re-run the model using the selected variables\n",
        "X_train_sm = sm.add_constant(X_train[col])\n",
        "logm17 = sm.GLM(y_train,X_train_sm, family = sm.families.Binomial())\n",
        "res = logm17.fit()\n",
        "res.summary()"
      ],
      "execution_count": 0,
      "outputs": []
    },
    {
      "cell_type": "code",
      "metadata": {
        "id": "mnc3nr5x3-Sv",
        "colab_type": "code",
        "colab": {}
      },
      "source": [
        "col = col.drop('arpu_2g_8', 1)\n",
        "# Let's re-run the model using the selected variables\n",
        "X_train_sm = sm.add_constant(X_train[col])\n",
        "logm18 = sm.GLM(y_train,X_train_sm, family = sm.families.Binomial())\n",
        "res = logm18.fit()\n",
        "res.summary()"
      ],
      "execution_count": 0,
      "outputs": []
    },
    {
      "cell_type": "code",
      "metadata": {
        "id": "y2A-tEYB4B-i",
        "colab_type": "code",
        "colab": {}
      },
      "source": [
        "# Check for the VIF values of the feature variables. \n",
        "from statsmodels.stats.outliers_influence import variance_inflation_factor\n",
        "vif = pd.DataFrame()\n",
        "vif['Features'] = X_train[col].columns\n",
        "vif['VIF'] = [variance_inflation_factor(X_train[col].values, i) for i in range(X_train[col].shape[1])]\n",
        "vif['VIF'] = round(vif['VIF'], 2)\n",
        "vif = vif.sort_values(by = \"VIF\", ascending = False)\n",
        "vif"
      ],
      "execution_count": 0,
      "outputs": []
    },
    {
      "cell_type": "code",
      "metadata": {
        "id": "4aG_doBlJBKD",
        "colab_type": "code",
        "colab": {}
      },
      "source": [
        "col = col.drop('total_ic_mou_8', 1)\n",
        "# Let's re-run the model using the selected variables\n",
        "X_train_sm = sm.add_constant(X_train[col])\n",
        "logm18 = sm.GLM(y_train,X_train_sm, family = sm.families.Binomial())\n",
        "res = logm18.fit()\n",
        "res.summary()"
      ],
      "execution_count": 0,
      "outputs": []
    },
    {
      "cell_type": "code",
      "metadata": {
        "id": "q2TWIWWCJPeW",
        "colab_type": "code",
        "colab": {}
      },
      "source": [
        "col = col.drop('total_ic_mou_goodphase', 1)\n",
        "# Let's re-run the model using the selected variables\n",
        "X_train_sm = sm.add_constant(X_train[col])\n",
        "logm18 = sm.GLM(y_train,X_train_sm, family = sm.families.Binomial())\n",
        "res = logm18.fit()\n",
        "res.summary()"
      ],
      "execution_count": 0,
      "outputs": []
    },
    {
      "cell_type": "code",
      "metadata": {
        "id": "IYu7NNp-Jd74",
        "colab_type": "code",
        "colab": {}
      },
      "source": [
        "col = col.drop('loc_og_t2m_mou_8', 1)\n",
        "# Let's re-run the model using the selected variables\n",
        "X_train_sm = sm.add_constant(X_train[col])\n",
        "logm18 = sm.GLM(y_train,X_train_sm, family = sm.families.Binomial())\n",
        "res = logm18.fit()\n",
        "res.summary()"
      ],
      "execution_count": 0,
      "outputs": []
    },
    {
      "cell_type": "code",
      "metadata": {
        "id": "VhJFasAhJpWR",
        "colab_type": "code",
        "colab": {}
      },
      "source": [
        "# Check for the VIF values of the feature variables. \n",
        "from statsmodels.stats.outliers_influence import variance_inflation_factor\n",
        "vif = pd.DataFrame()\n",
        "vif['Features'] = X_train[col].columns\n",
        "vif['VIF'] = [variance_inflation_factor(X_train[col].values, i) for i in range(X_train[col].shape[1])]\n",
        "vif['VIF'] = round(vif['VIF'], 2)\n",
        "vif = vif.sort_values(by = \"VIF\", ascending = False)\n",
        "vif"
      ],
      "execution_count": 0,
      "outputs": []
    },
    {
      "cell_type": "code",
      "metadata": {
        "id": "mJsXgf5_kWu3",
        "colab_type": "code",
        "colab": {}
      },
      "source": [
        "#### av_rech_amt_data_goodphase,std_og_mou_8, total_og_mou_8,arpu_8,total_rech_num_8, std_og_mou_goodphase,\n",
        "#total_rech_num_goodphase, tot_amt_rech_goodphase\t, arpu_3g_goodphase\t, vol_2g_mb_goodphase\t, vol_2g_mb_8\t, \n",
        "#vol_3g_mb_8\t,sachet_2g_8\t, loc_ic_mou_8\t,\tlast_day_rch_amt_8\t,\taon\t,\tog_others_8\t,\troam_ic_mou_goodphase\t,\n",
        "#isd_ic_mou_goodphase \n",
        "\n",
        "#Above parameters being the prime driving factors for the decision making, the company has to be vigilant while \n",
        "#there is a fluctuation observed in these parameters.The recharge packages that would include these driving \n",
        "#factors should be considered. Service related to 3g and 2g data packages needs to be analysed for better \n",
        "#customer retention."
      ],
      "execution_count": 0,
      "outputs": []
    },
    {
      "cell_type": "markdown",
      "metadata": {
        "id": "gLacJzu2k588",
        "colab_type": "text"
      },
      "source": [
        ""
      ]
    },
    {
      "cell_type": "code",
      "metadata": {
        "id": "dgWfc3in4c3f",
        "colab_type": "code",
        "colab": {}
      },
      "source": [
        ""
      ],
      "execution_count": 0,
      "outputs": []
    }
  ]
}